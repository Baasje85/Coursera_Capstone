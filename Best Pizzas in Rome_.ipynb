{
 "cells": [
  {
   "cell_type": "markdown",
   "metadata": {
    "collapsed": true
   },
   "source": [
    "# Is there still room for a new pizzeria in Rome, Italy?"
   ]
  },
  {
   "cell_type": "markdown",
   "metadata": {},
   "source": [
    "*A data study by Charlotte Marjolein Baas, MSc*"
   ]
  },
  {
   "cell_type": "markdown",
   "metadata": {},
   "source": [
    " "
   ]
  },
  {
   "cell_type": "markdown",
   "metadata": {},
   "source": [
    "## Introduction"
   ]
  },
  {
   "cell_type": "markdown",
   "metadata": {},
   "source": [
    "Having a restaurant in Rome, Italy is one of the biggest dreams of a pizza maker. However, starting one might not be the biggest challenge. In a place like Rome there are assumed to be pizzerias on about every corner of every busy street. The competition is huge if not killing or completely murderous.\n",
    "\n",
    "I have been contacted by a pizza lover who wants to know if (and if so, then where) there is still room for a new pizzeria in the city of Rome. This pizza lover is aching to start his own pizza place in the best part of the city, however, he knows there is a lot of competition. He asked me to investigate where he stands the most chance of getting his new restaurant running, i.e. where the competition is the least ‘killing’ and people are still willing to try out his pizzas.\n"
   ]
  },
  {
   "cell_type": "markdown",
   "metadata": {},
   "source": [
    "## Data"
   ]
  },
  {
   "cell_type": "markdown",
   "metadata": {},
   "source": [
    "In order to answer the main question: Is there still room for a new pizzeria in the city of Rome, Italy, subdivisions (municipio) of Rome were scraped from wikipedia.org (https://en.wikipedia.org/wiki/Administrative_subdivision_of_Rome). This scraping resulted in a dataframe containing the names of the fifteen municipio, their corresponding population, area in square kilometers and density in square kilometers. In addition, the coordinates of the different municipio were collected from www.geonames.org. A csv-file was manually created with the corresponding latitude and longitude coordinates of each municipio (all were positioned on different pages on the site).\n",
    "\n",
    "Data was further pre-processed merging both the dataframe containing the information from wikipedia.org and the manually created csv-file with information from geonames.org.\n",
    "\n",
    "The municipio of Rome were labeled on a map, showing their positions in the city.\n",
    "\n",
    "With the use of the Foursquare API the venues of the fifteen municipio were explored per subdivision (within a range of 1500 meters from the coordinates of the subdivision, with a limit of 100 venues). The resulting venues were filtered, leaving anything out except for the categories 'pizza place' and 'Italian restaurant'. For every subdivision of the city, this resulted in a dataframe containing the pizza places and Italian restaurants.\n",
    "\n",
    "In order to come up with a meaningful answer to the main question, the number of relevant venues in each municipio were combined into a new dataframe. The population density was taken into account during the search for the best place for a new pizzeria. Municipio containing the lowest 'competitors' in combination with the highest population density were considered to be the 'place to be' for a new pizzeria.\n"
   ]
  },
  {
   "cell_type": "markdown",
   "metadata": {},
   "source": [
    " "
   ]
  },
  {
   "cell_type": "markdown",
   "metadata": {},
   "source": [
    "## Methodology"
   ]
  },
  {
   "cell_type": "markdown",
   "metadata": {},
   "source": [
    "Download and import all dependencies before getting the data and exploring it"
   ]
  },
  {
   "cell_type": "code",
   "execution_count": 1,
   "metadata": {},
   "outputs": [
    {
     "name": "stdout",
     "output_type": "stream",
     "text": [
      "Solving environment: done\n",
      "\n",
      "# All requested packages already installed.\n",
      "\n",
      "Solving environment: done\n",
      "\n",
      "# All requested packages already installed.\n",
      "\n",
      "Libraries imported\n"
     ]
    }
   ],
   "source": [
    "import numpy as np\n",
    "import pandas as pd\n",
    "import json\n",
    "!conda install -c conda-forge geopy --yes\n",
    "from geopy.geocoders import Nominatim # convert an address into latitude and longitude values\n",
    "import requests\n",
    "from pandas.io.json import json_normalize # tranform JSON file into a pandas dataframe\n",
    "\n",
    "import matplotlib.cm as cm\n",
    "import matplotlib.colors as colors\n",
    "\n",
    "from sklearn.cluster import KMeans\n",
    "!conda install -c conda-forge folium=0.5.0 --yes\n",
    "\n",
    "import folium\n",
    "print(\"Libraries imported\")\n",
    "\n",
    "\n"
   ]
  },
  {
   "cell_type": "markdown",
   "metadata": {},
   "source": [
    "### Step 1: Explore venues of each municipio"
   ]
  },
  {
   "cell_type": "markdown",
   "metadata": {},
   "source": [
    "Scrape Wikipedia site and transform data into pandas dataframe"
   ]
  },
  {
   "cell_type": "code",
   "execution_count": 2,
   "metadata": {
    "scrolled": false
   },
   "outputs": [
    {
     "data": {
      "text/html": [
       "<div>\n",
       "<style scoped>\n",
       "    .dataframe tbody tr th:only-of-type {\n",
       "        vertical-align: middle;\n",
       "    }\n",
       "\n",
       "    .dataframe tbody tr th {\n",
       "        vertical-align: top;\n",
       "    }\n",
       "\n",
       "    .dataframe thead th {\n",
       "        text-align: right;\n",
       "    }\n",
       "</style>\n",
       "<table border=\"1\" class=\"dataframe\">\n",
       "  <thead>\n",
       "    <tr style=\"text-align: right;\">\n",
       "      <th></th>\n",
       "      <th>Municipio</th>\n",
       "      <th>Population 31 December 2015</th>\n",
       "      <th>Area in km²</th>\n",
       "      <th>Density per km²</th>\n",
       "    </tr>\n",
       "  </thead>\n",
       "  <tbody>\n",
       "    <tr>\n",
       "      <th>0</th>\n",
       "      <td>Municipio I – Historical Center</td>\n",
       "      <td>186802</td>\n",
       "      <td>19.91</td>\n",
       "      <td>9382</td>\n",
       "    </tr>\n",
       "    <tr>\n",
       "      <th>1</th>\n",
       "      <td>Municipio II – Parioli/Nomentano</td>\n",
       "      <td>167736</td>\n",
       "      <td>19.60</td>\n",
       "      <td>8567</td>\n",
       "    </tr>\n",
       "    <tr>\n",
       "      <th>2</th>\n",
       "      <td>Municipio III – Monte Sacro</td>\n",
       "      <td>204514</td>\n",
       "      <td>97.82</td>\n",
       "      <td>2091</td>\n",
       "    </tr>\n",
       "    <tr>\n",
       "      <th>3</th>\n",
       "      <td>Municipio IV – Tiburtina</td>\n",
       "      <td>177084</td>\n",
       "      <td>49.15</td>\n",
       "      <td>3603</td>\n",
       "    </tr>\n",
       "    <tr>\n",
       "      <th>4</th>\n",
       "      <td>Municipio V – Prenestino/Centocelle</td>\n",
       "      <td>246471</td>\n",
       "      <td>27.00</td>\n",
       "      <td>9137</td>\n",
       "    </tr>\n",
       "    <tr>\n",
       "      <th>5</th>\n",
       "      <td>Municipio VI – Roma Delle Torri</td>\n",
       "      <td>256261</td>\n",
       "      <td>113.40</td>\n",
       "      <td>2261</td>\n",
       "    </tr>\n",
       "    <tr>\n",
       "      <th>6</th>\n",
       "      <td>Municipio VII – Appio-Latino/Tuscolano/Cinecittà</td>\n",
       "      <td>307607</td>\n",
       "      <td>46.80</td>\n",
       "      <td>6580</td>\n",
       "    </tr>\n",
       "    <tr>\n",
       "      <th>7</th>\n",
       "      <td>Municipio VIII – Appia Antica</td>\n",
       "      <td>131082</td>\n",
       "      <td>47.29</td>\n",
       "      <td>2772</td>\n",
       "    </tr>\n",
       "    <tr>\n",
       "      <th>8</th>\n",
       "      <td>Municipio IX – EUR</td>\n",
       "      <td>180511</td>\n",
       "      <td>183.17</td>\n",
       "      <td>985</td>\n",
       "    </tr>\n",
       "    <tr>\n",
       "      <th>9</th>\n",
       "      <td>Municipio X – Ostia/Acilia</td>\n",
       "      <td>230544</td>\n",
       "      <td>150.64</td>\n",
       "      <td>1530</td>\n",
       "    </tr>\n",
       "    <tr>\n",
       "      <th>10</th>\n",
       "      <td>Municipio XI – Arvalia/Portuense</td>\n",
       "      <td>154871</td>\n",
       "      <td>70.90</td>\n",
       "      <td>2185</td>\n",
       "    </tr>\n",
       "    <tr>\n",
       "      <th>11</th>\n",
       "      <td>Municipio XII – Monte Verde</td>\n",
       "      <td>140996</td>\n",
       "      <td>73.12</td>\n",
       "      <td>1928</td>\n",
       "    </tr>\n",
       "    <tr>\n",
       "      <th>12</th>\n",
       "      <td>Municipio XIII – Aurelia</td>\n",
       "      <td>133813</td>\n",
       "      <td>68.70</td>\n",
       "      <td>1949</td>\n",
       "    </tr>\n",
       "    <tr>\n",
       "      <th>13</th>\n",
       "      <td>Municipio XIV – Monte Mario</td>\n",
       "      <td>190513</td>\n",
       "      <td>131.30</td>\n",
       "      <td>1451</td>\n",
       "    </tr>\n",
       "    <tr>\n",
       "      <th>14</th>\n",
       "      <td>Municipio XV – Cassia/Flaminia</td>\n",
       "      <td>158561</td>\n",
       "      <td>186.70</td>\n",
       "      <td>849</td>\n",
       "    </tr>\n",
       "  </tbody>\n",
       "</table>\n",
       "</div>"
      ],
      "text/plain": [
       "                                           Municipio  \\\n",
       "0                    Municipio I – Historical Center   \n",
       "1                   Municipio II – Parioli/Nomentano   \n",
       "2                        Municipio III – Monte Sacro   \n",
       "3                           Municipio IV – Tiburtina   \n",
       "4                Municipio V – Prenestino/Centocelle   \n",
       "5                    Municipio VI – Roma Delle Torri   \n",
       "6   Municipio VII – Appio-Latino/Tuscolano/Cinecittà   \n",
       "7                      Municipio VIII – Appia Antica   \n",
       "8                                 Municipio IX – EUR   \n",
       "9                         Municipio X – Ostia/Acilia   \n",
       "10                  Municipio XI – Arvalia/Portuense   \n",
       "11                       Municipio XII – Monte Verde   \n",
       "12                          Municipio XIII – Aurelia   \n",
       "13                       Municipio XIV – Monte Mario   \n",
       "14                    Municipio XV – Cassia/Flaminia   \n",
       "\n",
       "    Population 31 December 2015  Area in km²  Density per km²  \n",
       "0                        186802        19.91             9382  \n",
       "1                        167736        19.60             8567  \n",
       "2                        204514        97.82             2091  \n",
       "3                        177084        49.15             3603  \n",
       "4                        246471        27.00             9137  \n",
       "5                        256261       113.40             2261  \n",
       "6                        307607        46.80             6580  \n",
       "7                        131082        47.29             2772  \n",
       "8                        180511       183.17              985  \n",
       "9                        230544       150.64             1530  \n",
       "10                       154871        70.90             2185  \n",
       "11                       140996        73.12             1928  \n",
       "12                       133813        68.70             1949  \n",
       "13                       190513       131.30             1451  \n",
       "14                       158561       186.70              849  "
      ]
     },
     "execution_count": 2,
     "metadata": {},
     "output_type": "execute_result"
    }
   ],
   "source": [
    "url = 'https://en.wikipedia.org/wiki/Administrative_subdivision_of_Rome'\n",
    "data = pd.read_html(url, header=0)\n",
    "df_data = (pd.DataFrame.from_dict(data[0]))\n",
    "df_data = df_data.drop(\"Map\", axis=1)\n",
    "df_data"
   ]
  },
  {
   "cell_type": "markdown",
   "metadata": {},
   "source": [
    "Rename municipio and store municipio numbers in new column"
   ]
  },
  {
   "cell_type": "code",
   "execution_count": 3,
   "metadata": {},
   "outputs": [
    {
     "data": {
      "text/html": [
       "<div>\n",
       "<style scoped>\n",
       "    .dataframe tbody tr th:only-of-type {\n",
       "        vertical-align: middle;\n",
       "    }\n",
       "\n",
       "    .dataframe tbody tr th {\n",
       "        vertical-align: top;\n",
       "    }\n",
       "\n",
       "    .dataframe thead th {\n",
       "        text-align: right;\n",
       "    }\n",
       "</style>\n",
       "<table border=\"1\" class=\"dataframe\">\n",
       "  <thead>\n",
       "    <tr style=\"text-align: right;\">\n",
       "      <th></th>\n",
       "      <th>Municipio</th>\n",
       "      <th>Neighborhood</th>\n",
       "      <th>Population</th>\n",
       "      <th>Area</th>\n",
       "      <th>Density</th>\n",
       "    </tr>\n",
       "  </thead>\n",
       "  <tbody>\n",
       "    <tr>\n",
       "      <th>0</th>\n",
       "      <td>I</td>\n",
       "      <td>Historical Center</td>\n",
       "      <td>186802</td>\n",
       "      <td>19.91</td>\n",
       "      <td>9382</td>\n",
       "    </tr>\n",
       "    <tr>\n",
       "      <th>1</th>\n",
       "      <td>II</td>\n",
       "      <td>Parioli/Nomentano</td>\n",
       "      <td>167736</td>\n",
       "      <td>19.60</td>\n",
       "      <td>8567</td>\n",
       "    </tr>\n",
       "    <tr>\n",
       "      <th>2</th>\n",
       "      <td>III</td>\n",
       "      <td>Monte Sacro</td>\n",
       "      <td>204514</td>\n",
       "      <td>97.82</td>\n",
       "      <td>2091</td>\n",
       "    </tr>\n",
       "    <tr>\n",
       "      <th>3</th>\n",
       "      <td>IV</td>\n",
       "      <td>Tiburtina</td>\n",
       "      <td>177084</td>\n",
       "      <td>49.15</td>\n",
       "      <td>3603</td>\n",
       "    </tr>\n",
       "    <tr>\n",
       "      <th>4</th>\n",
       "      <td>V</td>\n",
       "      <td>Prenestino/Centocelle</td>\n",
       "      <td>246471</td>\n",
       "      <td>27.00</td>\n",
       "      <td>9137</td>\n",
       "    </tr>\n",
       "    <tr>\n",
       "      <th>5</th>\n",
       "      <td>VI</td>\n",
       "      <td>Roma Delle Torri</td>\n",
       "      <td>256261</td>\n",
       "      <td>113.40</td>\n",
       "      <td>2261</td>\n",
       "    </tr>\n",
       "    <tr>\n",
       "      <th>6</th>\n",
       "      <td>VII</td>\n",
       "      <td>Appio-Latino/Tuscolano/Cinecittà</td>\n",
       "      <td>307607</td>\n",
       "      <td>46.80</td>\n",
       "      <td>6580</td>\n",
       "    </tr>\n",
       "    <tr>\n",
       "      <th>7</th>\n",
       "      <td>VIII</td>\n",
       "      <td>Appia Antica</td>\n",
       "      <td>131082</td>\n",
       "      <td>47.29</td>\n",
       "      <td>2772</td>\n",
       "    </tr>\n",
       "    <tr>\n",
       "      <th>8</th>\n",
       "      <td>IX</td>\n",
       "      <td>EUR</td>\n",
       "      <td>180511</td>\n",
       "      <td>183.17</td>\n",
       "      <td>985</td>\n",
       "    </tr>\n",
       "    <tr>\n",
       "      <th>9</th>\n",
       "      <td>X</td>\n",
       "      <td>Ostia/Acilia</td>\n",
       "      <td>230544</td>\n",
       "      <td>150.64</td>\n",
       "      <td>1530</td>\n",
       "    </tr>\n",
       "    <tr>\n",
       "      <th>10</th>\n",
       "      <td>XI</td>\n",
       "      <td>Arvalia/Portuense</td>\n",
       "      <td>154871</td>\n",
       "      <td>70.90</td>\n",
       "      <td>2185</td>\n",
       "    </tr>\n",
       "    <tr>\n",
       "      <th>11</th>\n",
       "      <td>XII</td>\n",
       "      <td>Monte Verde</td>\n",
       "      <td>140996</td>\n",
       "      <td>73.12</td>\n",
       "      <td>1928</td>\n",
       "    </tr>\n",
       "    <tr>\n",
       "      <th>12</th>\n",
       "      <td>XIII</td>\n",
       "      <td>Aurelia</td>\n",
       "      <td>133813</td>\n",
       "      <td>68.70</td>\n",
       "      <td>1949</td>\n",
       "    </tr>\n",
       "    <tr>\n",
       "      <th>13</th>\n",
       "      <td>XIV</td>\n",
       "      <td>Monte Mario</td>\n",
       "      <td>190513</td>\n",
       "      <td>131.30</td>\n",
       "      <td>1451</td>\n",
       "    </tr>\n",
       "    <tr>\n",
       "      <th>14</th>\n",
       "      <td>XV</td>\n",
       "      <td>Cassia/Flaminia</td>\n",
       "      <td>158561</td>\n",
       "      <td>186.70</td>\n",
       "      <td>849</td>\n",
       "    </tr>\n",
       "  </tbody>\n",
       "</table>\n",
       "</div>"
      ],
      "text/plain": [
       "   Municipio                      Neighborhood  Population    Area  Density\n",
       "0          I                 Historical Center      186802   19.91     9382\n",
       "1         II                 Parioli/Nomentano      167736   19.60     8567\n",
       "2        III                       Monte Sacro      204514   97.82     2091\n",
       "3         IV                         Tiburtina      177084   49.15     3603\n",
       "4          V             Prenestino/Centocelle      246471   27.00     9137\n",
       "5         VI                  Roma Delle Torri      256261  113.40     2261\n",
       "6        VII  Appio-Latino/Tuscolano/Cinecittà      307607   46.80     6580\n",
       "7       VIII                      Appia Antica      131082   47.29     2772\n",
       "8         IX                               EUR      180511  183.17      985\n",
       "9          X                      Ostia/Acilia      230544  150.64     1530\n",
       "10        XI                 Arvalia/Portuense      154871   70.90     2185\n",
       "11       XII                       Monte Verde      140996   73.12     1928\n",
       "12      XIII                           Aurelia      133813   68.70     1949\n",
       "13       XIV                       Monte Mario      190513  131.30     1451\n",
       "14        XV                   Cassia/Flaminia      158561  186.70      849"
      ]
     },
     "execution_count": 3,
     "metadata": {},
     "output_type": "execute_result"
    }
   ],
   "source": [
    "new = df_data[\"Municipio\"].str.split(\" – \", n = 1, expand = True)\n",
    "#new\n",
    "new_1 = new[0].str.split(\"Municipio \",n=1, expand = True)\n",
    "#new,new_1\n",
    "new_2 = new_1[1]\n",
    "df_data[\"Neighborhood\"] = new[1]\n",
    "df_data[\"Municipio\"] = new_2\n",
    "df_data.rename(columns={\"Population 31 December 2015\": \"Population\", \"Area in km²\": \"Area\", \"Density per km²\": \"Density\"}, inplace = True)\n",
    "cols = [\"Municipio\", \"Neighborhood\", \"Population\", \"Area\", \"Density\"]\n",
    "df_data = df_data[cols]\n",
    "df_data"
   ]
  },
  {
   "cell_type": "markdown",
   "metadata": {},
   "source": [
    "Get the latitude and longitude coordinates of each Municipio from csv file committed to github"
   ]
  },
  {
   "cell_type": "code",
   "execution_count": 4,
   "metadata": {},
   "outputs": [
    {
     "data": {
      "text/html": [
       "<div>\n",
       "<style scoped>\n",
       "    .dataframe tbody tr th:only-of-type {\n",
       "        vertical-align: middle;\n",
       "    }\n",
       "\n",
       "    .dataframe tbody tr th {\n",
       "        vertical-align: top;\n",
       "    }\n",
       "\n",
       "    .dataframe thead th {\n",
       "        text-align: right;\n",
       "    }\n",
       "</style>\n",
       "<table border=\"1\" class=\"dataframe\">\n",
       "  <thead>\n",
       "    <tr style=\"text-align: right;\">\n",
       "      <th></th>\n",
       "      <th>Municipio</th>\n",
       "      <th>Neighborhood</th>\n",
       "      <th>Latitude</th>\n",
       "      <th>Longitude</th>\n",
       "    </tr>\n",
       "  </thead>\n",
       "  <tbody>\n",
       "    <tr>\n",
       "      <th>0</th>\n",
       "      <td>I</td>\n",
       "      <td>Historical Center</td>\n",
       "      <td>41.89798</td>\n",
       "      <td>12.47813</td>\n",
       "    </tr>\n",
       "    <tr>\n",
       "      <th>1</th>\n",
       "      <td>II</td>\n",
       "      <td>Parioli/Nomentano</td>\n",
       "      <td>41.92006</td>\n",
       "      <td>12.50136</td>\n",
       "    </tr>\n",
       "    <tr>\n",
       "      <th>2</th>\n",
       "      <td>III</td>\n",
       "      <td>Monte Sacro</td>\n",
       "      <td>41.99579</td>\n",
       "      <td>12.55450</td>\n",
       "    </tr>\n",
       "    <tr>\n",
       "      <th>3</th>\n",
       "      <td>IV</td>\n",
       "      <td>Tiburtina</td>\n",
       "      <td>41.93151</td>\n",
       "      <td>12.59152</td>\n",
       "    </tr>\n",
       "    <tr>\n",
       "      <th>4</th>\n",
       "      <td>V</td>\n",
       "      <td>Prenestino/Centocelle</td>\n",
       "      <td>41.88846</td>\n",
       "      <td>12.57574</td>\n",
       "    </tr>\n",
       "    <tr>\n",
       "      <th>5</th>\n",
       "      <td>VI</td>\n",
       "      <td>Roma Delle Torri</td>\n",
       "      <td>41.88690</td>\n",
       "      <td>12.68729</td>\n",
       "    </tr>\n",
       "    <tr>\n",
       "      <th>6</th>\n",
       "      <td>VII</td>\n",
       "      <td>Appio-Latino/Tuscolano/Cinecittà</td>\n",
       "      <td>41.83840</td>\n",
       "      <td>12.58207</td>\n",
       "    </tr>\n",
       "    <tr>\n",
       "      <th>7</th>\n",
       "      <td>VIII</td>\n",
       "      <td>Appia Antica</td>\n",
       "      <td>41.82802</td>\n",
       "      <td>12.52934</td>\n",
       "    </tr>\n",
       "    <tr>\n",
       "      <th>8</th>\n",
       "      <td>IX</td>\n",
       "      <td>EUR</td>\n",
       "      <td>41.75700</td>\n",
       "      <td>12.49799</td>\n",
       "    </tr>\n",
       "    <tr>\n",
       "      <th>9</th>\n",
       "      <td>X</td>\n",
       "      <td>Ostia/Acilia</td>\n",
       "      <td>41.73875</td>\n",
       "      <td>12.36328</td>\n",
       "    </tr>\n",
       "    <tr>\n",
       "      <th>10</th>\n",
       "      <td>XI</td>\n",
       "      <td>Arvalia/Portuense</td>\n",
       "      <td>41.83002</td>\n",
       "      <td>12.37696</td>\n",
       "    </tr>\n",
       "    <tr>\n",
       "      <th>11</th>\n",
       "      <td>XII</td>\n",
       "      <td>Monte Verde</td>\n",
       "      <td>41.87037</td>\n",
       "      <td>12.34497</td>\n",
       "    </tr>\n",
       "    <tr>\n",
       "      <th>12</th>\n",
       "      <td>XIII</td>\n",
       "      <td>Aurelia</td>\n",
       "      <td>41.90979</td>\n",
       "      <td>12.34630</td>\n",
       "    </tr>\n",
       "    <tr>\n",
       "      <th>13</th>\n",
       "      <td>XIV</td>\n",
       "      <td>Monte Mario</td>\n",
       "      <td>41.97501</td>\n",
       "      <td>12.34567</td>\n",
       "    </tr>\n",
       "    <tr>\n",
       "      <th>14</th>\n",
       "      <td>XV</td>\n",
       "      <td>Cassia/Flaminia</td>\n",
       "      <td>42.02907</td>\n",
       "      <td>12.41586</td>\n",
       "    </tr>\n",
       "  </tbody>\n",
       "</table>\n",
       "</div>"
      ],
      "text/plain": [
       "   Municipio                      Neighborhood  Latitude  Longitude\n",
       "0          I                 Historical Center  41.89798   12.47813\n",
       "1         II                 Parioli/Nomentano  41.92006   12.50136\n",
       "2        III                       Monte Sacro  41.99579   12.55450\n",
       "3         IV                         Tiburtina  41.93151   12.59152\n",
       "4          V             Prenestino/Centocelle  41.88846   12.57574\n",
       "5         VI                  Roma Delle Torri  41.88690   12.68729\n",
       "6        VII  Appio-Latino/Tuscolano/Cinecittà  41.83840   12.58207\n",
       "7       VIII                      Appia Antica  41.82802   12.52934\n",
       "8         IX                               EUR  41.75700   12.49799\n",
       "9          X                      Ostia/Acilia  41.73875   12.36328\n",
       "10        XI                 Arvalia/Portuense  41.83002   12.37696\n",
       "11       XII                       Monte Verde  41.87037   12.34497\n",
       "12      XIII                           Aurelia  41.90979   12.34630\n",
       "13       XIV                       Monte Mario  41.97501   12.34567\n",
       "14        XV                   Cassia/Flaminia  42.02907   12.41586"
      ]
     },
     "execution_count": 4,
     "metadata": {},
     "output_type": "execute_result"
    }
   ],
   "source": [
    "geo_url = 'https://raw.githubusercontent.com/Baasje85/Coursera_Capstone/master/Geodata_Roma.csv'\n",
    "geo_data = pd.read_csv(geo_url, index_col=0)\n",
    "geo_data = geo_data.reset_index()\n",
    "geo_data"
   ]
  },
  {
   "cell_type": "code",
   "execution_count": 5,
   "metadata": {},
   "outputs": [
    {
     "data": {
      "text/html": [
       "<div>\n",
       "<style scoped>\n",
       "    .dataframe tbody tr th:only-of-type {\n",
       "        vertical-align: middle;\n",
       "    }\n",
       "\n",
       "    .dataframe tbody tr th {\n",
       "        vertical-align: top;\n",
       "    }\n",
       "\n",
       "    .dataframe thead th {\n",
       "        text-align: right;\n",
       "    }\n",
       "</style>\n",
       "<table border=\"1\" class=\"dataframe\">\n",
       "  <thead>\n",
       "    <tr style=\"text-align: right;\">\n",
       "      <th></th>\n",
       "      <th>Municipio</th>\n",
       "      <th>Neighborhood</th>\n",
       "      <th>Population</th>\n",
       "      <th>Area</th>\n",
       "      <th>Density</th>\n",
       "      <th>Latitude</th>\n",
       "      <th>Longitude</th>\n",
       "    </tr>\n",
       "  </thead>\n",
       "  <tbody>\n",
       "    <tr>\n",
       "      <th>0</th>\n",
       "      <td>I</td>\n",
       "      <td>Historical Center</td>\n",
       "      <td>186802</td>\n",
       "      <td>19.91</td>\n",
       "      <td>9382</td>\n",
       "      <td>41.89798</td>\n",
       "      <td>12.47813</td>\n",
       "    </tr>\n",
       "    <tr>\n",
       "      <th>1</th>\n",
       "      <td>II</td>\n",
       "      <td>Parioli/Nomentano</td>\n",
       "      <td>167736</td>\n",
       "      <td>19.60</td>\n",
       "      <td>8567</td>\n",
       "      <td>41.92006</td>\n",
       "      <td>12.50136</td>\n",
       "    </tr>\n",
       "    <tr>\n",
       "      <th>2</th>\n",
       "      <td>III</td>\n",
       "      <td>Monte Sacro</td>\n",
       "      <td>204514</td>\n",
       "      <td>97.82</td>\n",
       "      <td>2091</td>\n",
       "      <td>41.99579</td>\n",
       "      <td>12.55450</td>\n",
       "    </tr>\n",
       "    <tr>\n",
       "      <th>3</th>\n",
       "      <td>IV</td>\n",
       "      <td>Tiburtina</td>\n",
       "      <td>177084</td>\n",
       "      <td>49.15</td>\n",
       "      <td>3603</td>\n",
       "      <td>41.93151</td>\n",
       "      <td>12.59152</td>\n",
       "    </tr>\n",
       "    <tr>\n",
       "      <th>4</th>\n",
       "      <td>V</td>\n",
       "      <td>Prenestino/Centocelle</td>\n",
       "      <td>246471</td>\n",
       "      <td>27.00</td>\n",
       "      <td>9137</td>\n",
       "      <td>41.88846</td>\n",
       "      <td>12.57574</td>\n",
       "    </tr>\n",
       "    <tr>\n",
       "      <th>5</th>\n",
       "      <td>VI</td>\n",
       "      <td>Roma Delle Torri</td>\n",
       "      <td>256261</td>\n",
       "      <td>113.40</td>\n",
       "      <td>2261</td>\n",
       "      <td>41.88690</td>\n",
       "      <td>12.68729</td>\n",
       "    </tr>\n",
       "    <tr>\n",
       "      <th>6</th>\n",
       "      <td>VII</td>\n",
       "      <td>Appio-Latino/Tuscolano/Cinecittà</td>\n",
       "      <td>307607</td>\n",
       "      <td>46.80</td>\n",
       "      <td>6580</td>\n",
       "      <td>41.83840</td>\n",
       "      <td>12.58207</td>\n",
       "    </tr>\n",
       "    <tr>\n",
       "      <th>7</th>\n",
       "      <td>VIII</td>\n",
       "      <td>Appia Antica</td>\n",
       "      <td>131082</td>\n",
       "      <td>47.29</td>\n",
       "      <td>2772</td>\n",
       "      <td>41.82802</td>\n",
       "      <td>12.52934</td>\n",
       "    </tr>\n",
       "    <tr>\n",
       "      <th>8</th>\n",
       "      <td>IX</td>\n",
       "      <td>EUR</td>\n",
       "      <td>180511</td>\n",
       "      <td>183.17</td>\n",
       "      <td>985</td>\n",
       "      <td>41.75700</td>\n",
       "      <td>12.49799</td>\n",
       "    </tr>\n",
       "    <tr>\n",
       "      <th>9</th>\n",
       "      <td>X</td>\n",
       "      <td>Ostia/Acilia</td>\n",
       "      <td>230544</td>\n",
       "      <td>150.64</td>\n",
       "      <td>1530</td>\n",
       "      <td>41.73875</td>\n",
       "      <td>12.36328</td>\n",
       "    </tr>\n",
       "    <tr>\n",
       "      <th>10</th>\n",
       "      <td>XI</td>\n",
       "      <td>Arvalia/Portuense</td>\n",
       "      <td>154871</td>\n",
       "      <td>70.90</td>\n",
       "      <td>2185</td>\n",
       "      <td>41.83002</td>\n",
       "      <td>12.37696</td>\n",
       "    </tr>\n",
       "    <tr>\n",
       "      <th>11</th>\n",
       "      <td>XII</td>\n",
       "      <td>Monte Verde</td>\n",
       "      <td>140996</td>\n",
       "      <td>73.12</td>\n",
       "      <td>1928</td>\n",
       "      <td>41.87037</td>\n",
       "      <td>12.34497</td>\n",
       "    </tr>\n",
       "    <tr>\n",
       "      <th>12</th>\n",
       "      <td>XIII</td>\n",
       "      <td>Aurelia</td>\n",
       "      <td>133813</td>\n",
       "      <td>68.70</td>\n",
       "      <td>1949</td>\n",
       "      <td>41.90979</td>\n",
       "      <td>12.34630</td>\n",
       "    </tr>\n",
       "    <tr>\n",
       "      <th>13</th>\n",
       "      <td>XIV</td>\n",
       "      <td>Monte Mario</td>\n",
       "      <td>190513</td>\n",
       "      <td>131.30</td>\n",
       "      <td>1451</td>\n",
       "      <td>41.97501</td>\n",
       "      <td>12.34567</td>\n",
       "    </tr>\n",
       "    <tr>\n",
       "      <th>14</th>\n",
       "      <td>XV</td>\n",
       "      <td>Cassia/Flaminia</td>\n",
       "      <td>158561</td>\n",
       "      <td>186.70</td>\n",
       "      <td>849</td>\n",
       "      <td>42.02907</td>\n",
       "      <td>12.41586</td>\n",
       "    </tr>\n",
       "  </tbody>\n",
       "</table>\n",
       "</div>"
      ],
      "text/plain": [
       "   Municipio                      Neighborhood  Population    Area  Density  \\\n",
       "0          I                 Historical Center      186802   19.91     9382   \n",
       "1         II                 Parioli/Nomentano      167736   19.60     8567   \n",
       "2        III                       Monte Sacro      204514   97.82     2091   \n",
       "3         IV                         Tiburtina      177084   49.15     3603   \n",
       "4          V             Prenestino/Centocelle      246471   27.00     9137   \n",
       "5         VI                  Roma Delle Torri      256261  113.40     2261   \n",
       "6        VII  Appio-Latino/Tuscolano/Cinecittà      307607   46.80     6580   \n",
       "7       VIII                      Appia Antica      131082   47.29     2772   \n",
       "8         IX                               EUR      180511  183.17      985   \n",
       "9          X                      Ostia/Acilia      230544  150.64     1530   \n",
       "10        XI                 Arvalia/Portuense      154871   70.90     2185   \n",
       "11       XII                       Monte Verde      140996   73.12     1928   \n",
       "12      XIII                           Aurelia      133813   68.70     1949   \n",
       "13       XIV                       Monte Mario      190513  131.30     1451   \n",
       "14        XV                   Cassia/Flaminia      158561  186.70      849   \n",
       "\n",
       "    Latitude  Longitude  \n",
       "0   41.89798   12.47813  \n",
       "1   41.92006   12.50136  \n",
       "2   41.99579   12.55450  \n",
       "3   41.93151   12.59152  \n",
       "4   41.88846   12.57574  \n",
       "5   41.88690   12.68729  \n",
       "6   41.83840   12.58207  \n",
       "7   41.82802   12.52934  \n",
       "8   41.75700   12.49799  \n",
       "9   41.73875   12.36328  \n",
       "10  41.83002   12.37696  \n",
       "11  41.87037   12.34497  \n",
       "12  41.90979   12.34630  \n",
       "13  41.97501   12.34567  \n",
       "14  42.02907   12.41586  "
      ]
     },
     "execution_count": 5,
     "metadata": {},
     "output_type": "execute_result"
    }
   ],
   "source": [
    "merged_data = pd.merge(df_data, geo_data)\n",
    "merged_data"
   ]
  },
  {
   "cell_type": "markdown",
   "metadata": {},
   "source": [
    "*population on december 31st, 2015; area measured in square km; density measured per square km"
   ]
  },
  {
   "cell_type": "markdown",
   "metadata": {},
   "source": [
    " "
   ]
  },
  {
   "cell_type": "markdown",
   "metadata": {},
   "source": [
    "Explore the neighborhoods in Rome"
   ]
  },
  {
   "cell_type": "code",
   "execution_count": 6,
   "metadata": {},
   "outputs": [
    {
     "data": {
      "text/html": [
       "<div style=\"width:100%;\"><div style=\"position:relative;width:100%;height:0;padding-bottom:60%;\"><iframe src=\"data:text/html;charset=utf-8;base64,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\" style=\"position:absolute;width:100%;height:100%;left:0;top:0;border:none !important;\" allowfullscreen webkitallowfullscreen mozallowfullscreen></iframe></div></div>"
      ],
      "text/plain": [
       "<folium.folium.Map at 0x7fa206ff1400>"
      ]
     },
     "execution_count": 6,
     "metadata": {},
     "output_type": "execute_result"
    }
   ],
   "source": [
    "latitude = 41.902782\n",
    "longitude = 12.496366\n",
    "\n",
    "map_rome = folium.Map(location=[latitude, longitude], zoom_start = 10)\n",
    "for lat, lng, municipio, neighborhood in zip(merged_data[\"Latitude\"], merged_data[\"Longitude\"], merged_data[\"Municipio\"], merged_data[\"Neighborhood\"]):\n",
    "    label = '{},{}'.format(municipio, neighborhood)\n",
    "    label = folium.Popup(label, parse_html = True)\n",
    "    folium.Circle(\n",
    "    [lat,lng],\n",
    "    radius = 1500,\n",
    "    popup=label,\n",
    "    color = 'red',\n",
    "    fill = True,\n",
    "    fill_color = '#d98880',\n",
    "    fill_opacity=0.7,\n",
    "    parse_html = False).add_to(map_rome)\n",
    "\n",
    "map_rome"
   ]
  },
  {
   "cell_type": "markdown",
   "metadata": {},
   "source": [
    "Define Foursquare and explore first neighborhood in dataframe"
   ]
  },
  {
   "cell_type": "code",
   "execution_count": 7,
   "metadata": {},
   "outputs": [
    {
     "data": {
      "text/plain": [
       "'Historical Center'"
      ]
     },
     "execution_count": 7,
     "metadata": {},
     "output_type": "execute_result"
    }
   ],
   "source": [
    "\n",
    "CLIENT_ID = 'ERP4VLV1V2S50EPBVX0WP1PSBSKGF3AHZBIXU5CGOYS3LMEZ' # your Foursquare ID\n",
    "CLIENT_SECRET = 'Z5NGERSC4UNC1ZZUB0SDGUY11OZ1GQ1M3AMJQCQ02RQIB4S4' # your Foursquare Secret\n",
    "VERSION = '20180605' # Foursquare API version\n",
    "\n",
    "merged_data.loc[0, 'Neighborhood']"
   ]
  },
  {
   "cell_type": "code",
   "execution_count": 8,
   "metadata": {},
   "outputs": [
    {
     "name": "stdout",
     "output_type": "stream",
     "text": [
      "Latitude and longitude values of Historical Center are 41.89798, 12.47813\n"
     ]
    }
   ],
   "source": [
    "neighborhood_latitude_I = merged_data.loc[0, 'Latitude']\n",
    "neighborhood_longitude_I = merged_data.loc[0, 'Longitude']\n",
    "neighborhood_name_I = merged_data.loc[0, 'Neighborhood']\n",
    "\n",
    "print('Latitude and longitude values of {} are {}, {}'.format(neighborhood_name_I, neighborhood_latitude_I, neighborhood_longitude_I))"
   ]
  },
  {
   "cell_type": "markdown",
   "metadata": {},
   "source": [
    "Get top 100 venues in **Historical Center** within radius of 1500 meters"
   ]
  },
  {
   "cell_type": "code",
   "execution_count": 9,
   "metadata": {},
   "outputs": [
    {
     "data": {
      "text/plain": [
       "'https://api.foursquare.com/v2/venues/explore?&client_id=ERP4VLV1V2S50EPBVX0WP1PSBSKGF3AHZBIXU5CGOYS3LMEZ&client_secret=Z5NGERSC4UNC1ZZUB0SDGUY11OZ1GQ1M3AMJQCQ02RQIB4S4&v=20180605&ll=41.89798,12.47813&radius=1500&limit=100'"
      ]
     },
     "execution_count": 9,
     "metadata": {},
     "output_type": "execute_result"
    }
   ],
   "source": [
    "LIMIT = 100\n",
    "radius = 1500\n",
    "url_I = 'https://api.foursquare.com/v2/venues/explore?&client_id={}&client_secret={}&v={}&ll={},{}&radius={}&limit={}'.format(\n",
    "    CLIENT_ID, \n",
    "    CLIENT_SECRET, \n",
    "    VERSION, \n",
    "    neighborhood_latitude_I, \n",
    "    neighborhood_longitude_I, \n",
    "    radius, \n",
    "    LIMIT)\n",
    "url_I"
   ]
  },
  {
   "cell_type": "code",
   "execution_count": 10,
   "metadata": {},
   "outputs": [],
   "source": [
    "results_I = requests.get(url_I).json()"
   ]
  },
  {
   "cell_type": "code",
   "execution_count": 11,
   "metadata": {},
   "outputs": [],
   "source": [
    "def get_category_type(row):\n",
    "    try:\n",
    "        categories_list = row['categories']\n",
    "    except:\n",
    "        categories_list = row['venue.categories']\n",
    "        \n",
    "    if len(categories_list) == 0:\n",
    "        return None\n",
    "    else:\n",
    "        return categories_list[0]['name']"
   ]
  },
  {
   "cell_type": "code",
   "execution_count": 12,
   "metadata": {},
   "outputs": [
    {
     "data": {
      "text/html": [
       "<div>\n",
       "<style scoped>\n",
       "    .dataframe tbody tr th:only-of-type {\n",
       "        vertical-align: middle;\n",
       "    }\n",
       "\n",
       "    .dataframe tbody tr th {\n",
       "        vertical-align: top;\n",
       "    }\n",
       "\n",
       "    .dataframe thead th {\n",
       "        text-align: right;\n",
       "    }\n",
       "</style>\n",
       "<table border=\"1\" class=\"dataframe\">\n",
       "  <thead>\n",
       "    <tr style=\"text-align: right;\">\n",
       "      <th></th>\n",
       "      <th>name</th>\n",
       "      <th>categories</th>\n",
       "      <th>lat</th>\n",
       "      <th>lng</th>\n",
       "    </tr>\n",
       "  </thead>\n",
       "  <tbody>\n",
       "    <tr>\n",
       "      <th>0</th>\n",
       "      <td>Pantheon</td>\n",
       "      <td>Monument / Landmark</td>\n",
       "      <td>41.899133</td>\n",
       "      <td>12.476805</td>\n",
       "    </tr>\n",
       "    <tr>\n",
       "      <th>1</th>\n",
       "      <td>Piazza della Rotonda</td>\n",
       "      <td>Plaza</td>\n",
       "      <td>41.899253</td>\n",
       "      <td>12.476779</td>\n",
       "    </tr>\n",
       "    <tr>\n",
       "      <th>2</th>\n",
       "      <td>Pizza e Mozzarella</td>\n",
       "      <td>Pizza Place</td>\n",
       "      <td>41.897598</td>\n",
       "      <td>12.479097</td>\n",
       "    </tr>\n",
       "    <tr>\n",
       "      <th>3</th>\n",
       "      <td>Il Panino Ingegnoso</td>\n",
       "      <td>Sandwich Place</td>\n",
       "      <td>41.899982</td>\n",
       "      <td>12.479195</td>\n",
       "    </tr>\n",
       "    <tr>\n",
       "      <th>4</th>\n",
       "      <td>Bartolucci</td>\n",
       "      <td>Toy / Game Store</td>\n",
       "      <td>41.899820</td>\n",
       "      <td>12.478812</td>\n",
       "    </tr>\n",
       "  </tbody>\n",
       "</table>\n",
       "</div>"
      ],
      "text/plain": [
       "                   name           categories        lat        lng\n",
       "0              Pantheon  Monument / Landmark  41.899133  12.476805\n",
       "1  Piazza della Rotonda                Plaza  41.899253  12.476779\n",
       "2    Pizza e Mozzarella          Pizza Place  41.897598  12.479097\n",
       "3   Il Panino Ingegnoso       Sandwich Place  41.899982  12.479195\n",
       "4            Bartolucci     Toy / Game Store  41.899820  12.478812"
      ]
     },
     "execution_count": 12,
     "metadata": {},
     "output_type": "execute_result"
    }
   ],
   "source": [
    "venues_I = results_I['response']['groups'][0]['items']\n",
    "    \n",
    "nearby_venues_I = json_normalize(venues_I) # flatten JSON\n",
    "\n",
    "# filter columns\n",
    "filtered_columns = ['venue.name', 'venue.categories', 'venue.location.lat', 'venue.location.lng']\n",
    "nearby_venues_I =nearby_venues_I.loc[:, filtered_columns]\n",
    "\n",
    "# filter the category for each row\n",
    "nearby_venues_I['venue.categories'] = nearby_venues_I.apply(get_category_type, axis=1)\n",
    "\n",
    "# clean columns\n",
    "nearby_venues_I.columns = [col.split(\".\")[-1] for col in nearby_venues_I.columns]\n",
    "\n",
    "nearby_venues_I.head()\n",
    "\n"
   ]
  },
  {
   "cell_type": "markdown",
   "metadata": {},
   "source": [
    "Search for only Pizza places or Italian restaurants"
   ]
  },
  {
   "cell_type": "code",
   "execution_count": 13,
   "metadata": {
    "scrolled": true
   },
   "outputs": [
    {
     "data": {
      "text/html": [
       "<div>\n",
       "<style scoped>\n",
       "    .dataframe tbody tr th:only-of-type {\n",
       "        vertical-align: middle;\n",
       "    }\n",
       "\n",
       "    .dataframe tbody tr th {\n",
       "        vertical-align: top;\n",
       "    }\n",
       "\n",
       "    .dataframe thead th {\n",
       "        text-align: right;\n",
       "    }\n",
       "</style>\n",
       "<table border=\"1\" class=\"dataframe\">\n",
       "  <thead>\n",
       "    <tr style=\"text-align: right;\">\n",
       "      <th></th>\n",
       "      <th>name</th>\n",
       "      <th>categories</th>\n",
       "      <th>lat</th>\n",
       "      <th>lng</th>\n",
       "    </tr>\n",
       "  </thead>\n",
       "  <tbody>\n",
       "    <tr>\n",
       "      <th>2</th>\n",
       "      <td>Pizza e Mozzarella</td>\n",
       "      <td>Pizza Place</td>\n",
       "      <td>41.897598</td>\n",
       "      <td>12.479097</td>\n",
       "    </tr>\n",
       "    <tr>\n",
       "      <th>15</th>\n",
       "      <td>Vini &amp; Cucina</td>\n",
       "      <td>Pizza Place</td>\n",
       "      <td>41.896840</td>\n",
       "      <td>12.476409</td>\n",
       "    </tr>\n",
       "    <tr>\n",
       "      <th>17</th>\n",
       "      <td>Capranica Enoteca &amp; Taverna</td>\n",
       "      <td>Italian Restaurant</td>\n",
       "      <td>41.899989</td>\n",
       "      <td>12.477762</td>\n",
       "    </tr>\n",
       "    <tr>\n",
       "      <th>32</th>\n",
       "      <td>Pizzeria Florida</td>\n",
       "      <td>Pizza Place</td>\n",
       "      <td>41.894819</td>\n",
       "      <td>12.476838</td>\n",
       "    </tr>\n",
       "    <tr>\n",
       "      <th>36</th>\n",
       "      <td>Emma</td>\n",
       "      <td>Pizza Place</td>\n",
       "      <td>41.894758</td>\n",
       "      <td>12.475082</td>\n",
       "    </tr>\n",
       "    <tr>\n",
       "      <th>40</th>\n",
       "      <td>La Tavernetta 48</td>\n",
       "      <td>Italian Restaurant</td>\n",
       "      <td>41.901029</td>\n",
       "      <td>12.475602</td>\n",
       "    </tr>\n",
       "    <tr>\n",
       "      <th>42</th>\n",
       "      <td>Hostaria Costanza</td>\n",
       "      <td>Italian Restaurant</td>\n",
       "      <td>41.896037</td>\n",
       "      <td>12.473708</td>\n",
       "    </tr>\n",
       "    <tr>\n",
       "      <th>50</th>\n",
       "      <td>Cantina e Cucina</td>\n",
       "      <td>Italian Restaurant</td>\n",
       "      <td>41.898002</td>\n",
       "      <td>12.471657</td>\n",
       "    </tr>\n",
       "    <tr>\n",
       "      <th>52</th>\n",
       "      <td>Pietro Valentini Ristorante</td>\n",
       "      <td>Italian Restaurant</td>\n",
       "      <td>41.900083</td>\n",
       "      <td>12.473632</td>\n",
       "    </tr>\n",
       "    <tr>\n",
       "      <th>55</th>\n",
       "      <td>Pizzeria da Pasquale</td>\n",
       "      <td>Pizza Place</td>\n",
       "      <td>41.902434</td>\n",
       "      <td>12.476703</td>\n",
       "    </tr>\n",
       "    <tr>\n",
       "      <th>80</th>\n",
       "      <td>Osteria dell' Anima</td>\n",
       "      <td>Italian Restaurant</td>\n",
       "      <td>41.899713</td>\n",
       "      <td>12.472202</td>\n",
       "    </tr>\n",
       "    <tr>\n",
       "      <th>81</th>\n",
       "      <td>La Prosciutteria</td>\n",
       "      <td>Italian Restaurant</td>\n",
       "      <td>41.901888</td>\n",
       "      <td>12.484467</td>\n",
       "    </tr>\n",
       "    <tr>\n",
       "      <th>84</th>\n",
       "      <td>Ristorante Fiammetta</td>\n",
       "      <td>Italian Restaurant</td>\n",
       "      <td>41.900917</td>\n",
       "      <td>12.472246</td>\n",
       "    </tr>\n",
       "    <tr>\n",
       "      <th>85</th>\n",
       "      <td>Vineria Il Chianti</td>\n",
       "      <td>Italian Restaurant</td>\n",
       "      <td>41.901051</td>\n",
       "      <td>12.484178</td>\n",
       "    </tr>\n",
       "    <tr>\n",
       "      <th>93</th>\n",
       "      <td>Matricianella</td>\n",
       "      <td>Italian Restaurant</td>\n",
       "      <td>41.903687</td>\n",
       "      <td>12.477397</td>\n",
       "    </tr>\n",
       "    <tr>\n",
       "      <th>97</th>\n",
       "      <td>Ristorante Due Ladroni</td>\n",
       "      <td>Italian Restaurant</td>\n",
       "      <td>41.903190</td>\n",
       "      <td>12.474790</td>\n",
       "    </tr>\n",
       "  </tbody>\n",
       "</table>\n",
       "</div>"
      ],
      "text/plain": [
       "                           name          categories        lat        lng\n",
       "2            Pizza e Mozzarella         Pizza Place  41.897598  12.479097\n",
       "15                Vini & Cucina         Pizza Place  41.896840  12.476409\n",
       "17  Capranica Enoteca & Taverna  Italian Restaurant  41.899989  12.477762\n",
       "32             Pizzeria Florida         Pizza Place  41.894819  12.476838\n",
       "36                         Emma         Pizza Place  41.894758  12.475082\n",
       "40             La Tavernetta 48  Italian Restaurant  41.901029  12.475602\n",
       "42            Hostaria Costanza  Italian Restaurant  41.896037  12.473708\n",
       "50             Cantina e Cucina  Italian Restaurant  41.898002  12.471657\n",
       "52  Pietro Valentini Ristorante  Italian Restaurant  41.900083  12.473632\n",
       "55         Pizzeria da Pasquale         Pizza Place  41.902434  12.476703\n",
       "80          Osteria dell' Anima  Italian Restaurant  41.899713  12.472202\n",
       "81             La Prosciutteria  Italian Restaurant  41.901888  12.484467\n",
       "84         Ristorante Fiammetta  Italian Restaurant  41.900917  12.472246\n",
       "85           Vineria Il Chianti  Italian Restaurant  41.901051  12.484178\n",
       "93                Matricianella  Italian Restaurant  41.903687  12.477397\n",
       "97       Ristorante Due Ladroni  Italian Restaurant  41.903190  12.474790"
      ]
     },
     "execution_count": 13,
     "metadata": {},
     "output_type": "execute_result"
    }
   ],
   "source": [
    "Venues_I = nearby_venues_I.loc[nearby_venues_I['categories'].isin(['Pizza Place','Italian Restaurant'])]\n",
    "Venues_I"
   ]
  },
  {
   "cell_type": "markdown",
   "metadata": {},
   "source": [
    " "
   ]
  },
  {
   "cell_type": "markdown",
   "metadata": {},
   "source": [
    "Find second neighborhood"
   ]
  },
  {
   "cell_type": "code",
   "execution_count": 14,
   "metadata": {},
   "outputs": [
    {
     "name": "stdout",
     "output_type": "stream",
     "text": [
      "Latitude and longitude values of Parioli/Nomentano are 41.92006, 12.50136\n"
     ]
    }
   ],
   "source": [
    "neighborhood_latitude_II = merged_data.loc[1, 'Latitude']\n",
    "neighborhood_longitude_II = merged_data.loc[1, 'Longitude']\n",
    "neighborhood_name_II = merged_data.loc[1, 'Neighborhood']\n",
    "\n",
    "print('Latitude and longitude values of {} are {}, {}'.format(neighborhood_name_II, neighborhood_latitude_II, neighborhood_longitude_II))"
   ]
  },
  {
   "cell_type": "markdown",
   "metadata": {},
   "source": [
    "Get top 100 venues in **Parioli/Nomentano** within radius of 1500 meters"
   ]
  },
  {
   "cell_type": "code",
   "execution_count": 15,
   "metadata": {},
   "outputs": [
    {
     "data": {
      "text/plain": [
       "'https://api.foursquare.com/v2/venues/explore?&client_id=ERP4VLV1V2S50EPBVX0WP1PSBSKGF3AHZBIXU5CGOYS3LMEZ&client_secret=Z5NGERSC4UNC1ZZUB0SDGUY11OZ1GQ1M3AMJQCQ02RQIB4S4&v=20180605&ll=41.92006,12.50136&radius=1500&limit=100'"
      ]
     },
     "execution_count": 15,
     "metadata": {},
     "output_type": "execute_result"
    }
   ],
   "source": [
    "LIMIT = 100\n",
    "radius = 1500\n",
    "url_II = 'https://api.foursquare.com/v2/venues/explore?&client_id={}&client_secret={}&v={}&ll={},{}&radius={}&limit={}'.format(\n",
    "    CLIENT_ID, \n",
    "    CLIENT_SECRET, \n",
    "    VERSION, \n",
    "    neighborhood_latitude_II, \n",
    "    neighborhood_longitude_II, \n",
    "    radius, \n",
    "    LIMIT)\n",
    "url_II"
   ]
  },
  {
   "cell_type": "code",
   "execution_count": 16,
   "metadata": {},
   "outputs": [],
   "source": [
    "results_II = requests.get(url_II).json()"
   ]
  },
  {
   "cell_type": "code",
   "execution_count": 17,
   "metadata": {},
   "outputs": [
    {
     "data": {
      "text/html": [
       "<div>\n",
       "<style scoped>\n",
       "    .dataframe tbody tr th:only-of-type {\n",
       "        vertical-align: middle;\n",
       "    }\n",
       "\n",
       "    .dataframe tbody tr th {\n",
       "        vertical-align: top;\n",
       "    }\n",
       "\n",
       "    .dataframe thead th {\n",
       "        text-align: right;\n",
       "    }\n",
       "</style>\n",
       "<table border=\"1\" class=\"dataframe\">\n",
       "  <thead>\n",
       "    <tr style=\"text-align: right;\">\n",
       "      <th></th>\n",
       "      <th>name</th>\n",
       "      <th>categories</th>\n",
       "      <th>lat</th>\n",
       "      <th>lng</th>\n",
       "    </tr>\n",
       "  </thead>\n",
       "  <tbody>\n",
       "    <tr>\n",
       "      <th>0</th>\n",
       "      <td>Kilo Restaurant</td>\n",
       "      <td>Steakhouse</td>\n",
       "      <td>41.918245</td>\n",
       "      <td>12.498625</td>\n",
       "    </tr>\n",
       "    <tr>\n",
       "      <th>1</th>\n",
       "      <td>Bucavino</td>\n",
       "      <td>Italian Restaurant</td>\n",
       "      <td>41.917442</td>\n",
       "      <td>12.499237</td>\n",
       "    </tr>\n",
       "    <tr>\n",
       "      <th>2</th>\n",
       "      <td>Ristorante Lin</td>\n",
       "      <td>Chinese Restaurant</td>\n",
       "      <td>41.916750</td>\n",
       "      <td>12.499490</td>\n",
       "    </tr>\n",
       "    <tr>\n",
       "      <th>3</th>\n",
       "      <td>Hotel Buenos Aires Rome</td>\n",
       "      <td>Hotel</td>\n",
       "      <td>41.921268</td>\n",
       "      <td>12.502261</td>\n",
       "    </tr>\n",
       "    <tr>\n",
       "      <th>4</th>\n",
       "      <td>Mamma Mia</td>\n",
       "      <td>Italian Restaurant</td>\n",
       "      <td>41.918150</td>\n",
       "      <td>12.496798</td>\n",
       "    </tr>\n",
       "  </tbody>\n",
       "</table>\n",
       "</div>"
      ],
      "text/plain": [
       "                      name          categories        lat        lng\n",
       "0          Kilo Restaurant          Steakhouse  41.918245  12.498625\n",
       "1                 Bucavino  Italian Restaurant  41.917442  12.499237\n",
       "2           Ristorante Lin  Chinese Restaurant  41.916750  12.499490\n",
       "3  Hotel Buenos Aires Rome               Hotel  41.921268  12.502261\n",
       "4                Mamma Mia  Italian Restaurant  41.918150  12.496798"
      ]
     },
     "execution_count": 17,
     "metadata": {},
     "output_type": "execute_result"
    }
   ],
   "source": [
    "venues_II = results_II['response']['groups'][0]['items']\n",
    "    \n",
    "nearby_venues_II = json_normalize(venues_II) # flatten JSON\n",
    "\n",
    "# filter columns\n",
    "filtered_columns = ['venue.name', 'venue.categories', 'venue.location.lat', 'venue.location.lng']\n",
    "nearby_venues_II =nearby_venues_II.loc[:, filtered_columns]\n",
    "\n",
    "# filter the category for each row\n",
    "nearby_venues_II['venue.categories'] = nearby_venues_II.apply(get_category_type, axis=1)\n",
    "\n",
    "# clean columns\n",
    "nearby_venues_II.columns = [col.split(\".\")[-1] for col in nearby_venues_II.columns]\n",
    "\n",
    "nearby_venues_II.head()\n",
    "\n"
   ]
  },
  {
   "cell_type": "markdown",
   "metadata": {},
   "source": [
    "Search for only Pizza places or Italian restaurants"
   ]
  },
  {
   "cell_type": "code",
   "execution_count": 18,
   "metadata": {
    "scrolled": true
   },
   "outputs": [
    {
     "data": {
      "text/html": [
       "<div>\n",
       "<style scoped>\n",
       "    .dataframe tbody tr th:only-of-type {\n",
       "        vertical-align: middle;\n",
       "    }\n",
       "\n",
       "    .dataframe tbody tr th {\n",
       "        vertical-align: top;\n",
       "    }\n",
       "\n",
       "    .dataframe thead th {\n",
       "        text-align: right;\n",
       "    }\n",
       "</style>\n",
       "<table border=\"1\" class=\"dataframe\">\n",
       "  <thead>\n",
       "    <tr style=\"text-align: right;\">\n",
       "      <th></th>\n",
       "      <th>name</th>\n",
       "      <th>categories</th>\n",
       "      <th>lat</th>\n",
       "      <th>lng</th>\n",
       "    </tr>\n",
       "  </thead>\n",
       "  <tbody>\n",
       "    <tr>\n",
       "      <th>1</th>\n",
       "      <td>Bucavino</td>\n",
       "      <td>Italian Restaurant</td>\n",
       "      <td>41.917442</td>\n",
       "      <td>12.499237</td>\n",
       "    </tr>\n",
       "    <tr>\n",
       "      <th>4</th>\n",
       "      <td>Mamma Mia</td>\n",
       "      <td>Italian Restaurant</td>\n",
       "      <td>41.918150</td>\n",
       "      <td>12.496798</td>\n",
       "    </tr>\n",
       "    <tr>\n",
       "      <th>5</th>\n",
       "      <td>Pizzeria Da Agostino</td>\n",
       "      <td>Pizza Place</td>\n",
       "      <td>41.921787</td>\n",
       "      <td>12.507020</td>\n",
       "    </tr>\n",
       "    <tr>\n",
       "      <th>17</th>\n",
       "      <td>Taverna Rossini</td>\n",
       "      <td>Italian Restaurant</td>\n",
       "      <td>41.921848</td>\n",
       "      <td>12.492326</td>\n",
       "    </tr>\n",
       "    <tr>\n",
       "      <th>20</th>\n",
       "      <td>Il Gatto e L'uva</td>\n",
       "      <td>Italian Restaurant</td>\n",
       "      <td>41.911936</td>\n",
       "      <td>12.499929</td>\n",
       "    </tr>\n",
       "    <tr>\n",
       "      <th>22</th>\n",
       "      <td>Marzapane</td>\n",
       "      <td>Italian Restaurant</td>\n",
       "      <td>41.912543</td>\n",
       "      <td>12.498587</td>\n",
       "    </tr>\n",
       "    <tr>\n",
       "      <th>28</th>\n",
       "      <td>Al Forno della Soffitta</td>\n",
       "      <td>Italian Restaurant</td>\n",
       "      <td>41.909669</td>\n",
       "      <td>12.498445</td>\n",
       "    </tr>\n",
       "    <tr>\n",
       "      <th>29</th>\n",
       "      <td>Joe Padella</td>\n",
       "      <td>Italian Restaurant</td>\n",
       "      <td>41.913464</td>\n",
       "      <td>12.507268</td>\n",
       "    </tr>\n",
       "    <tr>\n",
       "      <th>30</th>\n",
       "      <td>Osteria dell'Arco</td>\n",
       "      <td>Italian Restaurant</td>\n",
       "      <td>41.910788</td>\n",
       "      <td>12.500321</td>\n",
       "    </tr>\n",
       "    <tr>\n",
       "      <th>31</th>\n",
       "      <td>Alice Pizza</td>\n",
       "      <td>Pizza Place</td>\n",
       "      <td>41.927205</td>\n",
       "      <td>12.492726</td>\n",
       "    </tr>\n",
       "    <tr>\n",
       "      <th>33</th>\n",
       "      <td>Fiore di Zucca</td>\n",
       "      <td>Italian Restaurant</td>\n",
       "      <td>41.917743</td>\n",
       "      <td>12.495277</td>\n",
       "    </tr>\n",
       "    <tr>\n",
       "      <th>35</th>\n",
       "      <td>Fiaschetteria Marini</td>\n",
       "      <td>Italian Restaurant</td>\n",
       "      <td>41.908506</td>\n",
       "      <td>12.498249</td>\n",
       "    </tr>\n",
       "    <tr>\n",
       "      <th>39</th>\n",
       "      <td>Ai Balestrari</td>\n",
       "      <td>Italian Restaurant</td>\n",
       "      <td>41.912836</td>\n",
       "      <td>12.504274</td>\n",
       "    </tr>\n",
       "    <tr>\n",
       "      <th>41</th>\n",
       "      <td>Gaudì</td>\n",
       "      <td>Pizza Place</td>\n",
       "      <td>41.916535</td>\n",
       "      <td>12.495363</td>\n",
       "    </tr>\n",
       "    <tr>\n",
       "      <th>42</th>\n",
       "      <td>Pro Loco Pinciano</td>\n",
       "      <td>Italian Restaurant</td>\n",
       "      <td>41.911242</td>\n",
       "      <td>12.499514</td>\n",
       "    </tr>\n",
       "    <tr>\n",
       "      <th>44</th>\n",
       "      <td>Pinsere</td>\n",
       "      <td>Pizza Place</td>\n",
       "      <td>41.907615</td>\n",
       "      <td>12.497823</td>\n",
       "    </tr>\n",
       "    <tr>\n",
       "      <th>48</th>\n",
       "      <td>Ristorante Piazza Caprera</td>\n",
       "      <td>Italian Restaurant</td>\n",
       "      <td>41.917690</td>\n",
       "      <td>12.507658</td>\n",
       "    </tr>\n",
       "    <tr>\n",
       "      <th>62</th>\n",
       "      <td>San Marco</td>\n",
       "      <td>Pizza Place</td>\n",
       "      <td>41.909667</td>\n",
       "      <td>12.491761</td>\n",
       "    </tr>\n",
       "    <tr>\n",
       "      <th>66</th>\n",
       "      <td>Metamorfosi Restaurant</td>\n",
       "      <td>Italian Restaurant</td>\n",
       "      <td>41.924077</td>\n",
       "      <td>12.484641</td>\n",
       "    </tr>\n",
       "    <tr>\n",
       "      <th>68</th>\n",
       "      <td>Mastro Pizza</td>\n",
       "      <td>Pizza Place</td>\n",
       "      <td>41.909383</td>\n",
       "      <td>12.509092</td>\n",
       "    </tr>\n",
       "    <tr>\n",
       "      <th>70</th>\n",
       "      <td>Tribeca Cafè</td>\n",
       "      <td>Italian Restaurant</td>\n",
       "      <td>41.911149</td>\n",
       "      <td>12.502422</td>\n",
       "    </tr>\n",
       "    <tr>\n",
       "      <th>78</th>\n",
       "      <td>Eleonora D'Arborea</td>\n",
       "      <td>Italian Restaurant</td>\n",
       "      <td>41.914893</td>\n",
       "      <td>12.507807</td>\n",
       "    </tr>\n",
       "    <tr>\n",
       "      <th>80</th>\n",
       "      <td>Pizzeria San Marino</td>\n",
       "      <td>Pizza Place</td>\n",
       "      <td>41.923365</td>\n",
       "      <td>12.513378</td>\n",
       "    </tr>\n",
       "    <tr>\n",
       "      <th>92</th>\n",
       "      <td>Ristorante Ambasciata d' Abruzzo</td>\n",
       "      <td>Italian Restaurant</td>\n",
       "      <td>41.923031</td>\n",
       "      <td>12.484624</td>\n",
       "    </tr>\n",
       "    <tr>\n",
       "      <th>94</th>\n",
       "      <td>Re basilico</td>\n",
       "      <td>Pizza Place</td>\n",
       "      <td>41.906904</td>\n",
       "      <td>12.500461</td>\n",
       "    </tr>\n",
       "  </tbody>\n",
       "</table>\n",
       "</div>"
      ],
      "text/plain": [
       "                                name          categories        lat        lng\n",
       "1                           Bucavino  Italian Restaurant  41.917442  12.499237\n",
       "4                          Mamma Mia  Italian Restaurant  41.918150  12.496798\n",
       "5               Pizzeria Da Agostino         Pizza Place  41.921787  12.507020\n",
       "17                   Taverna Rossini  Italian Restaurant  41.921848  12.492326\n",
       "20                  Il Gatto e L'uva  Italian Restaurant  41.911936  12.499929\n",
       "22                         Marzapane  Italian Restaurant  41.912543  12.498587\n",
       "28           Al Forno della Soffitta  Italian Restaurant  41.909669  12.498445\n",
       "29                       Joe Padella  Italian Restaurant  41.913464  12.507268\n",
       "30                 Osteria dell'Arco  Italian Restaurant  41.910788  12.500321\n",
       "31                       Alice Pizza         Pizza Place  41.927205  12.492726\n",
       "33                    Fiore di Zucca  Italian Restaurant  41.917743  12.495277\n",
       "35              Fiaschetteria Marini  Italian Restaurant  41.908506  12.498249\n",
       "39                     Ai Balestrari  Italian Restaurant  41.912836  12.504274\n",
       "41                             Gaudì         Pizza Place  41.916535  12.495363\n",
       "42                 Pro Loco Pinciano  Italian Restaurant  41.911242  12.499514\n",
       "44                           Pinsere         Pizza Place  41.907615  12.497823\n",
       "48         Ristorante Piazza Caprera  Italian Restaurant  41.917690  12.507658\n",
       "62                         San Marco         Pizza Place  41.909667  12.491761\n",
       "66            Metamorfosi Restaurant  Italian Restaurant  41.924077  12.484641\n",
       "68                      Mastro Pizza         Pizza Place  41.909383  12.509092\n",
       "70                      Tribeca Cafè  Italian Restaurant  41.911149  12.502422\n",
       "78                Eleonora D'Arborea  Italian Restaurant  41.914893  12.507807\n",
       "80               Pizzeria San Marino         Pizza Place  41.923365  12.513378\n",
       "92  Ristorante Ambasciata d' Abruzzo  Italian Restaurant  41.923031  12.484624\n",
       "94                       Re basilico         Pizza Place  41.906904  12.500461"
      ]
     },
     "execution_count": 18,
     "metadata": {},
     "output_type": "execute_result"
    }
   ],
   "source": [
    "Venues_II = nearby_venues_II.loc[nearby_venues_II['categories'].isin(['Pizza Place','Italian Restaurant'])]\n",
    "Venues_II"
   ]
  },
  {
   "cell_type": "markdown",
   "metadata": {},
   "source": [
    "Find third neighborhood"
   ]
  },
  {
   "cell_type": "code",
   "execution_count": 19,
   "metadata": {},
   "outputs": [
    {
     "name": "stdout",
     "output_type": "stream",
     "text": [
      "Latitude and longitude values of Monte Sacro are 41.99579, 12.5545\n"
     ]
    }
   ],
   "source": [
    "neighborhood_latitude_III = merged_data.loc[2, 'Latitude']\n",
    "neighborhood_longitude_III = merged_data.loc[2, 'Longitude']\n",
    "neighborhood_name_III = merged_data.loc[2, 'Neighborhood']\n",
    "\n",
    "print('Latitude and longitude values of {} are {}, {}'.format(neighborhood_name_III, neighborhood_latitude_III, neighborhood_longitude_III))"
   ]
  },
  {
   "cell_type": "markdown",
   "metadata": {},
   "source": [
    "Get top 100 venues in **Monte Sacro** within radius of 1500 meters"
   ]
  },
  {
   "cell_type": "code",
   "execution_count": 20,
   "metadata": {},
   "outputs": [
    {
     "data": {
      "text/plain": [
       "'https://api.foursquare.com/v2/venues/explore?&client_id=ERP4VLV1V2S50EPBVX0WP1PSBSKGF3AHZBIXU5CGOYS3LMEZ&client_secret=Z5NGERSC4UNC1ZZUB0SDGUY11OZ1GQ1M3AMJQCQ02RQIB4S4&v=20180605&ll=41.99579,12.5545&radius=1500&limit=100'"
      ]
     },
     "execution_count": 20,
     "metadata": {},
     "output_type": "execute_result"
    }
   ],
   "source": [
    "LIMIT = 100\n",
    "radius = 1500\n",
    "url_III = 'https://api.foursquare.com/v2/venues/explore?&client_id={}&client_secret={}&v={}&ll={},{}&radius={}&limit={}'.format(\n",
    "    CLIENT_ID, \n",
    "    CLIENT_SECRET, \n",
    "    VERSION, \n",
    "    neighborhood_latitude_III, \n",
    "    neighborhood_longitude_III, \n",
    "    radius, \n",
    "    LIMIT)\n",
    "url_III"
   ]
  },
  {
   "cell_type": "code",
   "execution_count": 21,
   "metadata": {},
   "outputs": [],
   "source": [
    "results_III = requests.get(url_III).json()"
   ]
  },
  {
   "cell_type": "code",
   "execution_count": 22,
   "metadata": {},
   "outputs": [
    {
     "data": {
      "text/html": [
       "<div>\n",
       "<style scoped>\n",
       "    .dataframe tbody tr th:only-of-type {\n",
       "        vertical-align: middle;\n",
       "    }\n",
       "\n",
       "    .dataframe tbody tr th {\n",
       "        vertical-align: top;\n",
       "    }\n",
       "\n",
       "    .dataframe thead th {\n",
       "        text-align: right;\n",
       "    }\n",
       "</style>\n",
       "<table border=\"1\" class=\"dataframe\">\n",
       "  <thead>\n",
       "    <tr style=\"text-align: right;\">\n",
       "      <th></th>\n",
       "      <th>name</th>\n",
       "      <th>categories</th>\n",
       "      <th>lat</th>\n",
       "      <th>lng</th>\n",
       "    </tr>\n",
       "  </thead>\n",
       "  <tbody>\n",
       "    <tr>\n",
       "      <th>0</th>\n",
       "      <td>Circolo Valentini</td>\n",
       "      <td>Pool</td>\n",
       "      <td>41.990850</td>\n",
       "      <td>12.552933</td>\n",
       "    </tr>\n",
       "    <tr>\n",
       "      <th>1</th>\n",
       "      <td>Boma Countryhouse</td>\n",
       "      <td>Hotel</td>\n",
       "      <td>41.995153</td>\n",
       "      <td>12.563933</td>\n",
       "    </tr>\n",
       "    <tr>\n",
       "      <th>2</th>\n",
       "      <td>Azienda Agricola Fortunato</td>\n",
       "      <td>Farm</td>\n",
       "      <td>42.000633</td>\n",
       "      <td>12.564436</td>\n",
       "    </tr>\n",
       "    <tr>\n",
       "      <th>3</th>\n",
       "      <td>3Store</td>\n",
       "      <td>Mobile Phone Shop</td>\n",
       "      <td>41.986914</td>\n",
       "      <td>12.564226</td>\n",
       "    </tr>\n",
       "  </tbody>\n",
       "</table>\n",
       "</div>"
      ],
      "text/plain": [
       "                         name         categories        lat        lng\n",
       "0           Circolo Valentini               Pool  41.990850  12.552933\n",
       "1           Boma Countryhouse              Hotel  41.995153  12.563933\n",
       "2  Azienda Agricola Fortunato               Farm  42.000633  12.564436\n",
       "3                      3Store  Mobile Phone Shop  41.986914  12.564226"
      ]
     },
     "execution_count": 22,
     "metadata": {},
     "output_type": "execute_result"
    }
   ],
   "source": [
    "venues_III = results_III['response']['groups'][0]['items']\n",
    "    \n",
    "nearby_venues_III = json_normalize(venues_III) # flatten JSON\n",
    "\n",
    "# filter columns\n",
    "filtered_columns = ['venue.name', 'venue.categories', 'venue.location.lat', 'venue.location.lng']\n",
    "nearby_venues_III =nearby_venues_III.loc[:, filtered_columns]\n",
    "\n",
    "# filter the category for each row\n",
    "nearby_venues_III['venue.categories'] = nearby_venues_III.apply(get_category_type, axis=1)\n",
    "\n",
    "# clean columns\n",
    "nearby_venues_III.columns = [col.split(\".\")[-1] for col in nearby_venues_III.columns]\n",
    "\n",
    "nearby_venues_III.head()\n",
    "\n"
   ]
  },
  {
   "cell_type": "markdown",
   "metadata": {},
   "source": [
    "Search for only Pizza places or Italian restaurants"
   ]
  },
  {
   "cell_type": "code",
   "execution_count": 23,
   "metadata": {
    "scrolled": true
   },
   "outputs": [
    {
     "data": {
      "text/html": [
       "<div>\n",
       "<style scoped>\n",
       "    .dataframe tbody tr th:only-of-type {\n",
       "        vertical-align: middle;\n",
       "    }\n",
       "\n",
       "    .dataframe tbody tr th {\n",
       "        vertical-align: top;\n",
       "    }\n",
       "\n",
       "    .dataframe thead th {\n",
       "        text-align: right;\n",
       "    }\n",
       "</style>\n",
       "<table border=\"1\" class=\"dataframe\">\n",
       "  <thead>\n",
       "    <tr style=\"text-align: right;\">\n",
       "      <th></th>\n",
       "      <th>name</th>\n",
       "      <th>categories</th>\n",
       "      <th>lat</th>\n",
       "      <th>lng</th>\n",
       "    </tr>\n",
       "  </thead>\n",
       "  <tbody>\n",
       "  </tbody>\n",
       "</table>\n",
       "</div>"
      ],
      "text/plain": [
       "Empty DataFrame\n",
       "Columns: [name, categories, lat, lng]\n",
       "Index: []"
      ]
     },
     "execution_count": 23,
     "metadata": {},
     "output_type": "execute_result"
    }
   ],
   "source": [
    "Venues_III = nearby_venues_III.loc[nearby_venues_III['categories'].isin(['Pizza Place','Italian Restaurant'])]\n",
    "Venues_III"
   ]
  },
  {
   "cell_type": "markdown",
   "metadata": {},
   "source": [
    "Find fourth neighborhood"
   ]
  },
  {
   "cell_type": "code",
   "execution_count": 24,
   "metadata": {},
   "outputs": [
    {
     "name": "stdout",
     "output_type": "stream",
     "text": [
      "Latitude and longitude values of Tiburtina are 41.931509999999996, 12.59152\n"
     ]
    }
   ],
   "source": [
    "neighborhood_latitude_IV = merged_data.loc[3, 'Latitude']\n",
    "neighborhood_longitude_IV = merged_data.loc[3, 'Longitude']\n",
    "neighborhood_name_IV = merged_data.loc[3, 'Neighborhood']\n",
    "\n",
    "print('Latitude and longitude values of {} are {}, {}'.format(neighborhood_name_IV, neighborhood_latitude_IV, neighborhood_longitude_IV))"
   ]
  },
  {
   "cell_type": "markdown",
   "metadata": {},
   "source": [
    "Get top 100 venues in **Tiburtina** within radius of 1500 meters"
   ]
  },
  {
   "cell_type": "code",
   "execution_count": 25,
   "metadata": {},
   "outputs": [
    {
     "data": {
      "text/plain": [
       "'https://api.foursquare.com/v2/venues/explore?&client_id=ERP4VLV1V2S50EPBVX0WP1PSBSKGF3AHZBIXU5CGOYS3LMEZ&client_secret=Z5NGERSC4UNC1ZZUB0SDGUY11OZ1GQ1M3AMJQCQ02RQIB4S4&v=20180605&ll=41.931509999999996,12.59152&radius=1500&limit=100'"
      ]
     },
     "execution_count": 25,
     "metadata": {},
     "output_type": "execute_result"
    }
   ],
   "source": [
    "LIMIT = 100\n",
    "radius = 1500\n",
    "url_IV = 'https://api.foursquare.com/v2/venues/explore?&client_id={}&client_secret={}&v={}&ll={},{}&radius={}&limit={}'.format(\n",
    "    CLIENT_ID, \n",
    "    CLIENT_SECRET, \n",
    "    VERSION, \n",
    "    neighborhood_latitude_IV, \n",
    "    neighborhood_longitude_IV, \n",
    "    radius, \n",
    "    LIMIT)\n",
    "url_IV"
   ]
  },
  {
   "cell_type": "code",
   "execution_count": 26,
   "metadata": {},
   "outputs": [],
   "source": [
    "results_IV = requests.get(url_IV).json()"
   ]
  },
  {
   "cell_type": "code",
   "execution_count": 27,
   "metadata": {},
   "outputs": [
    {
     "data": {
      "text/html": [
       "<div>\n",
       "<style scoped>\n",
       "    .dataframe tbody tr th:only-of-type {\n",
       "        vertical-align: middle;\n",
       "    }\n",
       "\n",
       "    .dataframe tbody tr th {\n",
       "        vertical-align: top;\n",
       "    }\n",
       "\n",
       "    .dataframe thead th {\n",
       "        text-align: right;\n",
       "    }\n",
       "</style>\n",
       "<table border=\"1\" class=\"dataframe\">\n",
       "  <thead>\n",
       "    <tr style=\"text-align: right;\">\n",
       "      <th></th>\n",
       "      <th>name</th>\n",
       "      <th>categories</th>\n",
       "      <th>lat</th>\n",
       "      <th>lng</th>\n",
       "    </tr>\n",
       "  </thead>\n",
       "  <tbody>\n",
       "    <tr>\n",
       "      <th>0</th>\n",
       "      <td>Roadhouse</td>\n",
       "      <td>American Restaurant</td>\n",
       "      <td>41.933792</td>\n",
       "      <td>12.603205</td>\n",
       "    </tr>\n",
       "    <tr>\n",
       "      <th>1</th>\n",
       "      <td>Old Wild West</td>\n",
       "      <td>American Restaurant</td>\n",
       "      <td>41.933149</td>\n",
       "      <td>12.589207</td>\n",
       "    </tr>\n",
       "    <tr>\n",
       "      <th>2</th>\n",
       "      <td>Gattobianco Bar-Tabacchi-Tavola Calda</td>\n",
       "      <td>Food Court</td>\n",
       "      <td>41.932602</td>\n",
       "      <td>12.585009</td>\n",
       "    </tr>\n",
       "    <tr>\n",
       "      <th>3</th>\n",
       "      <td>Lidl</td>\n",
       "      <td>Supermarket</td>\n",
       "      <td>41.926983</td>\n",
       "      <td>12.574954</td>\n",
       "    </tr>\n",
       "    <tr>\n",
       "      <th>4</th>\n",
       "      <td>Reginè Tiburtina</td>\n",
       "      <td>Pizza Place</td>\n",
       "      <td>41.930148</td>\n",
       "      <td>12.577782</td>\n",
       "    </tr>\n",
       "  </tbody>\n",
       "</table>\n",
       "</div>"
      ],
      "text/plain": [
       "                                    name           categories        lat  \\\n",
       "0                              Roadhouse  American Restaurant  41.933792   \n",
       "1                          Old Wild West  American Restaurant  41.933149   \n",
       "2  Gattobianco Bar-Tabacchi-Tavola Calda           Food Court  41.932602   \n",
       "3                                   Lidl          Supermarket  41.926983   \n",
       "4                       Reginè Tiburtina          Pizza Place  41.930148   \n",
       "\n",
       "         lng  \n",
       "0  12.603205  \n",
       "1  12.589207  \n",
       "2  12.585009  \n",
       "3  12.574954  \n",
       "4  12.577782  "
      ]
     },
     "execution_count": 27,
     "metadata": {},
     "output_type": "execute_result"
    }
   ],
   "source": [
    "venues_IV = results_IV['response']['groups'][0]['items']\n",
    "    \n",
    "nearby_venues_IV = json_normalize(venues_IV) # flatten JSON\n",
    "\n",
    "# filter columns\n",
    "filtered_columns = ['venue.name', 'venue.categories', 'venue.location.lat', 'venue.location.lng']\n",
    "nearby_venues_IV =nearby_venues_IV.loc[:, filtered_columns]\n",
    "\n",
    "# filter the category for each row\n",
    "nearby_venues_IV['venue.categories'] = nearby_venues_IV.apply(get_category_type, axis=1)\n",
    "\n",
    "# clean columns\n",
    "nearby_venues_IV.columns = [col.split(\".\")[-1] for col in nearby_venues_IV.columns]\n",
    "\n",
    "nearby_venues_IV.head()\n",
    "\n"
   ]
  },
  {
   "cell_type": "markdown",
   "metadata": {},
   "source": [
    "Search for only Pizza places or Italian restaurants"
   ]
  },
  {
   "cell_type": "code",
   "execution_count": 28,
   "metadata": {
    "scrolled": true
   },
   "outputs": [
    {
     "data": {
      "text/html": [
       "<div>\n",
       "<style scoped>\n",
       "    .dataframe tbody tr th:only-of-type {\n",
       "        vertical-align: middle;\n",
       "    }\n",
       "\n",
       "    .dataframe tbody tr th {\n",
       "        vertical-align: top;\n",
       "    }\n",
       "\n",
       "    .dataframe thead th {\n",
       "        text-align: right;\n",
       "    }\n",
       "</style>\n",
       "<table border=\"1\" class=\"dataframe\">\n",
       "  <thead>\n",
       "    <tr style=\"text-align: right;\">\n",
       "      <th></th>\n",
       "      <th>name</th>\n",
       "      <th>categories</th>\n",
       "      <th>lat</th>\n",
       "      <th>lng</th>\n",
       "    </tr>\n",
       "  </thead>\n",
       "  <tbody>\n",
       "    <tr>\n",
       "      <th>4</th>\n",
       "      <td>Reginè Tiburtina</td>\n",
       "      <td>Pizza Place</td>\n",
       "      <td>41.930148</td>\n",
       "      <td>12.577782</td>\n",
       "    </tr>\n",
       "    <tr>\n",
       "      <th>11</th>\n",
       "      <td>Ristocenter</td>\n",
       "      <td>Italian Restaurant</td>\n",
       "      <td>41.928053</td>\n",
       "      <td>12.608141</td>\n",
       "    </tr>\n",
       "    <tr>\n",
       "      <th>12</th>\n",
       "      <td>AZZURRA Pizzeria Bisteccheria</td>\n",
       "      <td>Pizza Place</td>\n",
       "      <td>41.927474</td>\n",
       "      <td>12.574820</td>\n",
       "    </tr>\n",
       "  </tbody>\n",
       "</table>\n",
       "</div>"
      ],
      "text/plain": [
       "                             name          categories        lat        lng\n",
       "4                Reginè Tiburtina         Pizza Place  41.930148  12.577782\n",
       "11                    Ristocenter  Italian Restaurant  41.928053  12.608141\n",
       "12  AZZURRA Pizzeria Bisteccheria         Pizza Place  41.927474  12.574820"
      ]
     },
     "execution_count": 28,
     "metadata": {},
     "output_type": "execute_result"
    }
   ],
   "source": [
    "Venues_IV = nearby_venues_IV.loc[nearby_venues_IV['categories'].isin(['Pizza Place','Italian Restaurant'])]\n",
    "Venues_IV"
   ]
  },
  {
   "cell_type": "markdown",
   "metadata": {},
   "source": [
    "Find fifth neighborhood"
   ]
  },
  {
   "cell_type": "code",
   "execution_count": 29,
   "metadata": {},
   "outputs": [
    {
     "name": "stdout",
     "output_type": "stream",
     "text": [
      "Latitude and longitude values of Prenestino/Centocelle are 41.888459999999995, 12.57574\n"
     ]
    }
   ],
   "source": [
    "neighborhood_latitude_V = merged_data.loc[4, 'Latitude']\n",
    "neighborhood_longitude_V = merged_data.loc[4, 'Longitude']\n",
    "neighborhood_name_V = merged_data.loc[4, 'Neighborhood']\n",
    "\n",
    "print('Latitude and longitude values of {} are {}, {}'.format(neighborhood_name_V, neighborhood_latitude_V, neighborhood_longitude_V))"
   ]
  },
  {
   "cell_type": "markdown",
   "metadata": {},
   "source": [
    "Get top 100 venues in **Prenestino/Centocelle** within radius of 1500 meters"
   ]
  },
  {
   "cell_type": "code",
   "execution_count": 30,
   "metadata": {},
   "outputs": [
    {
     "data": {
      "text/plain": [
       "'https://api.foursquare.com/v2/venues/explore?&client_id=ERP4VLV1V2S50EPBVX0WP1PSBSKGF3AHZBIXU5CGOYS3LMEZ&client_secret=Z5NGERSC4UNC1ZZUB0SDGUY11OZ1GQ1M3AMJQCQ02RQIB4S4&v=20180605&ll=41.888459999999995,12.57574&radius=1500&limit=100'"
      ]
     },
     "execution_count": 30,
     "metadata": {},
     "output_type": "execute_result"
    }
   ],
   "source": [
    "LIMIT = 100\n",
    "radius = 1500\n",
    "url_V = 'https://api.foursquare.com/v2/venues/explore?&client_id={}&client_secret={}&v={}&ll={},{}&radius={}&limit={}'.format(\n",
    "    CLIENT_ID, \n",
    "    CLIENT_SECRET, \n",
    "    VERSION, \n",
    "    neighborhood_latitude_V, \n",
    "    neighborhood_longitude_V, \n",
    "    radius, \n",
    "    LIMIT)\n",
    "url_V"
   ]
  },
  {
   "cell_type": "code",
   "execution_count": 31,
   "metadata": {},
   "outputs": [],
   "source": [
    "results_V = requests.get(url_V).json()"
   ]
  },
  {
   "cell_type": "code",
   "execution_count": 32,
   "metadata": {},
   "outputs": [
    {
     "data": {
      "text/html": [
       "<div>\n",
       "<style scoped>\n",
       "    .dataframe tbody tr th:only-of-type {\n",
       "        vertical-align: middle;\n",
       "    }\n",
       "\n",
       "    .dataframe tbody tr th {\n",
       "        vertical-align: top;\n",
       "    }\n",
       "\n",
       "    .dataframe thead th {\n",
       "        text-align: right;\n",
       "    }\n",
       "</style>\n",
       "<table border=\"1\" class=\"dataframe\">\n",
       "  <thead>\n",
       "    <tr style=\"text-align: right;\">\n",
       "      <th></th>\n",
       "      <th>name</th>\n",
       "      <th>categories</th>\n",
       "      <th>lat</th>\n",
       "      <th>lng</th>\n",
       "    </tr>\n",
       "  </thead>\n",
       "  <tbody>\n",
       "    <tr>\n",
       "      <th>0</th>\n",
       "      <td>CSOA Forte Prenestino</td>\n",
       "      <td>Music Venue</td>\n",
       "      <td>41.892687</td>\n",
       "      <td>12.568937</td>\n",
       "    </tr>\n",
       "    <tr>\n",
       "      <th>1</th>\n",
       "      <td>Ristorante Cinese Gui Lin</td>\n",
       "      <td>Chinese Restaurant</td>\n",
       "      <td>41.882570</td>\n",
       "      <td>12.568630</td>\n",
       "    </tr>\n",
       "    <tr>\n",
       "      <th>2</th>\n",
       "      <td>OmbraLonga</td>\n",
       "      <td>Wine Bar</td>\n",
       "      <td>41.889561</td>\n",
       "      <td>12.566099</td>\n",
       "    </tr>\n",
       "    <tr>\n",
       "      <th>3</th>\n",
       "      <td>Ristorante Il Coccio</td>\n",
       "      <td>Italian Restaurant</td>\n",
       "      <td>41.881127</td>\n",
       "      <td>12.577022</td>\n",
       "    </tr>\n",
       "    <tr>\n",
       "      <th>4</th>\n",
       "      <td>Cornetteria di Centocelle</td>\n",
       "      <td>Dessert Shop</td>\n",
       "      <td>41.889210</td>\n",
       "      <td>12.570698</td>\n",
       "    </tr>\n",
       "  </tbody>\n",
       "</table>\n",
       "</div>"
      ],
      "text/plain": [
       "                        name          categories        lat        lng\n",
       "0      CSOA Forte Prenestino         Music Venue  41.892687  12.568937\n",
       "1  Ristorante Cinese Gui Lin  Chinese Restaurant  41.882570  12.568630\n",
       "2                 OmbraLonga            Wine Bar  41.889561  12.566099\n",
       "3       Ristorante Il Coccio  Italian Restaurant  41.881127  12.577022\n",
       "4  Cornetteria di Centocelle        Dessert Shop  41.889210  12.570698"
      ]
     },
     "execution_count": 32,
     "metadata": {},
     "output_type": "execute_result"
    }
   ],
   "source": [
    "venues_V = results_V['response']['groups'][0]['items']\n",
    "    \n",
    "nearby_venues_V = json_normalize(venues_V) # flatten JSON\n",
    "\n",
    "# filter columns\n",
    "filtered_columns = ['venue.name', 'venue.categories', 'venue.location.lat', 'venue.location.lng']\n",
    "nearby_venues_V =nearby_venues_V.loc[:, filtered_columns]\n",
    "\n",
    "# filter the category for each row\n",
    "nearby_venues_V['venue.categories'] = nearby_venues_V.apply(get_category_type, axis=1)\n",
    "\n",
    "# clean columns\n",
    "nearby_venues_V.columns = [col.split(\".\")[-1] for col in nearby_venues_V.columns]\n",
    "\n",
    "nearby_venues_V.head()\n"
   ]
  },
  {
   "cell_type": "markdown",
   "metadata": {},
   "source": [
    "Search for only Pizza places or Italian restaurants"
   ]
  },
  {
   "cell_type": "code",
   "execution_count": 33,
   "metadata": {
    "scrolled": true
   },
   "outputs": [
    {
     "data": {
      "text/html": [
       "<div>\n",
       "<style scoped>\n",
       "    .dataframe tbody tr th:only-of-type {\n",
       "        vertical-align: middle;\n",
       "    }\n",
       "\n",
       "    .dataframe tbody tr th {\n",
       "        vertical-align: top;\n",
       "    }\n",
       "\n",
       "    .dataframe thead th {\n",
       "        text-align: right;\n",
       "    }\n",
       "</style>\n",
       "<table border=\"1\" class=\"dataframe\">\n",
       "  <thead>\n",
       "    <tr style=\"text-align: right;\">\n",
       "      <th></th>\n",
       "      <th>name</th>\n",
       "      <th>categories</th>\n",
       "      <th>lat</th>\n",
       "      <th>lng</th>\n",
       "    </tr>\n",
       "  </thead>\n",
       "  <tbody>\n",
       "    <tr>\n",
       "      <th>3</th>\n",
       "      <td>Ristorante Il Coccio</td>\n",
       "      <td>Italian Restaurant</td>\n",
       "      <td>41.881127</td>\n",
       "      <td>12.577022</td>\n",
       "    </tr>\n",
       "    <tr>\n",
       "      <th>9</th>\n",
       "      <td>The Fooders - Mazzo</td>\n",
       "      <td>Italian Restaurant</td>\n",
       "      <td>41.889908</td>\n",
       "      <td>12.563321</td>\n",
       "    </tr>\n",
       "    <tr>\n",
       "      <th>11</th>\n",
       "      <td>Alice Pizza Prenestina</td>\n",
       "      <td>Pizza Place</td>\n",
       "      <td>41.894894</td>\n",
       "      <td>12.560811</td>\n",
       "    </tr>\n",
       "    <tr>\n",
       "      <th>13</th>\n",
       "      <td>Buone Maniere</td>\n",
       "      <td>Pizza Place</td>\n",
       "      <td>41.879462</td>\n",
       "      <td>12.563528</td>\n",
       "    </tr>\n",
       "    <tr>\n",
       "      <th>19</th>\n",
       "      <td>Scaramouche</td>\n",
       "      <td>Italian Restaurant</td>\n",
       "      <td>41.897471</td>\n",
       "      <td>12.564638</td>\n",
       "    </tr>\n",
       "    <tr>\n",
       "      <th>20</th>\n",
       "      <td>Pizzeria Da Marco</td>\n",
       "      <td>Pizza Place</td>\n",
       "      <td>41.896628</td>\n",
       "      <td>12.566520</td>\n",
       "    </tr>\n",
       "    <tr>\n",
       "      <th>21</th>\n",
       "      <td>Quagliaro</td>\n",
       "      <td>Italian Restaurant</td>\n",
       "      <td>41.893469</td>\n",
       "      <td>12.576825</td>\n",
       "    </tr>\n",
       "    <tr>\n",
       "      <th>28</th>\n",
       "      <td>Paperi e Papere</td>\n",
       "      <td>Pizza Place</td>\n",
       "      <td>41.889483</td>\n",
       "      <td>12.561233</td>\n",
       "    </tr>\n",
       "    <tr>\n",
       "      <th>31</th>\n",
       "      <td>Domus Pinsa</td>\n",
       "      <td>Pizza Place</td>\n",
       "      <td>41.894224</td>\n",
       "      <td>12.591525</td>\n",
       "    </tr>\n",
       "    <tr>\n",
       "      <th>33</th>\n",
       "      <td>Mangianapoli</td>\n",
       "      <td>Pizza Place</td>\n",
       "      <td>41.891122</td>\n",
       "      <td>12.558024</td>\n",
       "    </tr>\n",
       "    <tr>\n",
       "      <th>43</th>\n",
       "      <td>Le Picciottine</td>\n",
       "      <td>Pizza Place</td>\n",
       "      <td>41.894863</td>\n",
       "      <td>12.562518</td>\n",
       "    </tr>\n",
       "    <tr>\n",
       "      <th>49</th>\n",
       "      <td>la Fraschetta</td>\n",
       "      <td>Italian Restaurant</td>\n",
       "      <td>41.878305</td>\n",
       "      <td>12.566120</td>\n",
       "    </tr>\n",
       "    <tr>\n",
       "      <th>51</th>\n",
       "      <td>Pizzeria Lo Sfizio</td>\n",
       "      <td>Pizza Place</td>\n",
       "      <td>41.901060</td>\n",
       "      <td>12.569799</td>\n",
       "    </tr>\n",
       "  </tbody>\n",
       "</table>\n",
       "</div>"
      ],
      "text/plain": [
       "                      name          categories        lat        lng\n",
       "3     Ristorante Il Coccio  Italian Restaurant  41.881127  12.577022\n",
       "9      The Fooders - Mazzo  Italian Restaurant  41.889908  12.563321\n",
       "11  Alice Pizza Prenestina         Pizza Place  41.894894  12.560811\n",
       "13           Buone Maniere         Pizza Place  41.879462  12.563528\n",
       "19             Scaramouche  Italian Restaurant  41.897471  12.564638\n",
       "20       Pizzeria Da Marco         Pizza Place  41.896628  12.566520\n",
       "21               Quagliaro  Italian Restaurant  41.893469  12.576825\n",
       "28         Paperi e Papere         Pizza Place  41.889483  12.561233\n",
       "31             Domus Pinsa         Pizza Place  41.894224  12.591525\n",
       "33            Mangianapoli         Pizza Place  41.891122  12.558024\n",
       "43          Le Picciottine         Pizza Place  41.894863  12.562518\n",
       "49           la Fraschetta  Italian Restaurant  41.878305  12.566120\n",
       "51      Pizzeria Lo Sfizio         Pizza Place  41.901060  12.569799"
      ]
     },
     "execution_count": 33,
     "metadata": {},
     "output_type": "execute_result"
    }
   ],
   "source": [
    "Venues_V = nearby_venues_V.loc[nearby_venues_V['categories'].isin(['Pizza Place','Italian Restaurant'])]\n",
    "Venues_V"
   ]
  },
  {
   "cell_type": "markdown",
   "metadata": {},
   "source": [
    "Find sixth neighborhood"
   ]
  },
  {
   "cell_type": "code",
   "execution_count": 34,
   "metadata": {},
   "outputs": [
    {
     "name": "stdout",
     "output_type": "stream",
     "text": [
      "Latitude and longitude values of Roma Delle Torri are 41.8869, 12.687289999999999\n"
     ]
    }
   ],
   "source": [
    "neighborhood_latitude_VI = merged_data.loc[5, 'Latitude']\n",
    "neighborhood_longitude_VI = merged_data.loc[5, 'Longitude']\n",
    "neighborhood_name_VI = merged_data.loc[5, 'Neighborhood']\n",
    "\n",
    "print('Latitude and longitude values of {} are {}, {}'.format(neighborhood_name_VI, neighborhood_latitude_VI, neighborhood_longitude_VI))"
   ]
  },
  {
   "cell_type": "markdown",
   "metadata": {},
   "source": [
    "Get top 100 venues in **Roma Delle Torri** within radius of 1500 meters"
   ]
  },
  {
   "cell_type": "code",
   "execution_count": 35,
   "metadata": {},
   "outputs": [
    {
     "data": {
      "text/plain": [
       "'https://api.foursquare.com/v2/venues/explore?&client_id=ERP4VLV1V2S50EPBVX0WP1PSBSKGF3AHZBIXU5CGOYS3LMEZ&client_secret=Z5NGERSC4UNC1ZZUB0SDGUY11OZ1GQ1M3AMJQCQ02RQIB4S4&v=20180605&ll=41.8869,12.687289999999999&radius=1500&limit=100'"
      ]
     },
     "execution_count": 35,
     "metadata": {},
     "output_type": "execute_result"
    }
   ],
   "source": [
    "LIMIT = 100\n",
    "radius = 1500\n",
    "url_VI = 'https://api.foursquare.com/v2/venues/explore?&client_id={}&client_secret={}&v={}&ll={},{}&radius={}&limit={}'.format(\n",
    "    CLIENT_ID, \n",
    "    CLIENT_SECRET, \n",
    "    VERSION, \n",
    "    neighborhood_latitude_VI, \n",
    "    neighborhood_longitude_VI, \n",
    "    radius, \n",
    "    LIMIT)\n",
    "url_VI"
   ]
  },
  {
   "cell_type": "code",
   "execution_count": 36,
   "metadata": {},
   "outputs": [],
   "source": [
    "results_VI = requests.get(url_VI).json()"
   ]
  },
  {
   "cell_type": "code",
   "execution_count": 37,
   "metadata": {},
   "outputs": [
    {
     "data": {
      "text/html": [
       "<div>\n",
       "<style scoped>\n",
       "    .dataframe tbody tr th:only-of-type {\n",
       "        vertical-align: middle;\n",
       "    }\n",
       "\n",
       "    .dataframe tbody tr th {\n",
       "        vertical-align: top;\n",
       "    }\n",
       "\n",
       "    .dataframe thead th {\n",
       "        text-align: right;\n",
       "    }\n",
       "</style>\n",
       "<table border=\"1\" class=\"dataframe\">\n",
       "  <thead>\n",
       "    <tr style=\"text-align: right;\">\n",
       "      <th></th>\n",
       "      <th>name</th>\n",
       "      <th>categories</th>\n",
       "      <th>lat</th>\n",
       "      <th>lng</th>\n",
       "    </tr>\n",
       "  </thead>\n",
       "  <tbody>\n",
       "    <tr>\n",
       "      <th>0</th>\n",
       "      <td>Heaven 3</td>\n",
       "      <td>Gym</td>\n",
       "      <td>41.892457</td>\n",
       "      <td>12.675069</td>\n",
       "    </tr>\n",
       "    <tr>\n",
       "      <th>1</th>\n",
       "      <td>Centro Commerciale Unico</td>\n",
       "      <td>Boutique</td>\n",
       "      <td>41.894718</td>\n",
       "      <td>12.673087</td>\n",
       "    </tr>\n",
       "    <tr>\n",
       "      <th>2</th>\n",
       "      <td>Mauris</td>\n",
       "      <td>Shop &amp; Service</td>\n",
       "      <td>41.891390</td>\n",
       "      <td>12.679900</td>\n",
       "    </tr>\n",
       "    <tr>\n",
       "      <th>3</th>\n",
       "      <td>GdC Ponte Di Nona</td>\n",
       "      <td>Soccer Field</td>\n",
       "      <td>41.894284</td>\n",
       "      <td>12.677151</td>\n",
       "    </tr>\n",
       "    <tr>\n",
       "      <th>4</th>\n",
       "      <td>SCHIAVI WALTER</td>\n",
       "      <td>Automotive Shop</td>\n",
       "      <td>41.880803</td>\n",
       "      <td>12.672377</td>\n",
       "    </tr>\n",
       "  </tbody>\n",
       "</table>\n",
       "</div>"
      ],
      "text/plain": [
       "                       name       categories        lat        lng\n",
       "0                  Heaven 3              Gym  41.892457  12.675069\n",
       "1  Centro Commerciale Unico         Boutique  41.894718  12.673087\n",
       "2                    Mauris   Shop & Service  41.891390  12.679900\n",
       "3         GdC Ponte Di Nona     Soccer Field  41.894284  12.677151\n",
       "4            SCHIAVI WALTER  Automotive Shop  41.880803  12.672377"
      ]
     },
     "execution_count": 37,
     "metadata": {},
     "output_type": "execute_result"
    }
   ],
   "source": [
    "venues_VI = results_VI['response']['groups'][0]['items']\n",
    "    \n",
    "nearby_venues_VI = json_normalize(venues_VI) # flatten JSON\n",
    "\n",
    "# filter columns\n",
    "filtered_columns = ['venue.name', 'venue.categories', 'venue.location.lat', 'venue.location.lng']\n",
    "nearby_venues_VI =nearby_venues_VI.loc[:, filtered_columns]\n",
    "\n",
    "# filter the category for each row\n",
    "nearby_venues_VI['venue.categories'] = nearby_venues_VI.apply(get_category_type, axis=1)\n",
    "\n",
    "# clean columns\n",
    "nearby_venues_VI.columns = [col.split(\".\")[-1] for col in nearby_venues_VI.columns]\n",
    "\n",
    "nearby_venues_VI.head()\n"
   ]
  },
  {
   "cell_type": "markdown",
   "metadata": {},
   "source": [
    "Search for only Pizza places or Italian restaurants"
   ]
  },
  {
   "cell_type": "code",
   "execution_count": 38,
   "metadata": {
    "scrolled": false
   },
   "outputs": [
    {
     "data": {
      "text/html": [
       "<div>\n",
       "<style scoped>\n",
       "    .dataframe tbody tr th:only-of-type {\n",
       "        vertical-align: middle;\n",
       "    }\n",
       "\n",
       "    .dataframe tbody tr th {\n",
       "        vertical-align: top;\n",
       "    }\n",
       "\n",
       "    .dataframe thead th {\n",
       "        text-align: right;\n",
       "    }\n",
       "</style>\n",
       "<table border=\"1\" class=\"dataframe\">\n",
       "  <thead>\n",
       "    <tr style=\"text-align: right;\">\n",
       "      <th></th>\n",
       "      <th>name</th>\n",
       "      <th>categories</th>\n",
       "      <th>lat</th>\n",
       "      <th>lng</th>\n",
       "    </tr>\n",
       "  </thead>\n",
       "  <tbody>\n",
       "  </tbody>\n",
       "</table>\n",
       "</div>"
      ],
      "text/plain": [
       "Empty DataFrame\n",
       "Columns: [name, categories, lat, lng]\n",
       "Index: []"
      ]
     },
     "execution_count": 38,
     "metadata": {},
     "output_type": "execute_result"
    }
   ],
   "source": [
    "Venues_VI = nearby_venues_VI.loc[nearby_venues_VI['categories'].isin(['Pizza Place','Italian Restaurant'])]\n",
    "Venues_VI"
   ]
  },
  {
   "cell_type": "markdown",
   "metadata": {},
   "source": [
    "Find seventh neighborhood"
   ]
  },
  {
   "cell_type": "code",
   "execution_count": 39,
   "metadata": {},
   "outputs": [
    {
     "name": "stdout",
     "output_type": "stream",
     "text": [
      "Latitude and longitude values of Appio-Latino/Tuscolano/Cinecittà are 41.8384, 12.58207\n"
     ]
    }
   ],
   "source": [
    "neighborhood_latitude_VII = merged_data.loc[6, 'Latitude']\n",
    "neighborhood_longitude_VII = merged_data.loc[6, 'Longitude']\n",
    "neighborhood_name_VII = merged_data.loc[6, 'Neighborhood']\n",
    "\n",
    "print('Latitude and longitude values of {} are {}, {}'.format(neighborhood_name_VII, neighborhood_latitude_VII, neighborhood_longitude_VII))"
   ]
  },
  {
   "cell_type": "markdown",
   "metadata": {},
   "source": [
    "Get top 100 venues in **Appio-Latino/Tuscolano/Cinecittà** within radius of 1500 meters"
   ]
  },
  {
   "cell_type": "code",
   "execution_count": 40,
   "metadata": {},
   "outputs": [
    {
     "data": {
      "text/plain": [
       "'https://api.foursquare.com/v2/venues/explore?&client_id=ERP4VLV1V2S50EPBVX0WP1PSBSKGF3AHZBIXU5CGOYS3LMEZ&client_secret=Z5NGERSC4UNC1ZZUB0SDGUY11OZ1GQ1M3AMJQCQ02RQIB4S4&v=20180605&ll=41.8384,12.58207&radius=1500&limit=100'"
      ]
     },
     "execution_count": 40,
     "metadata": {},
     "output_type": "execute_result"
    }
   ],
   "source": [
    "LIMIT = 100\n",
    "radius = 1500\n",
    "url_VII = 'https://api.foursquare.com/v2/venues/explore?&client_id={}&client_secret={}&v={}&ll={},{}&radius={}&limit={}'.format(\n",
    "    CLIENT_ID, \n",
    "    CLIENT_SECRET, \n",
    "    VERSION, \n",
    "    neighborhood_latitude_VII, \n",
    "    neighborhood_longitude_VII, \n",
    "    radius, \n",
    "    LIMIT)\n",
    "url_VII"
   ]
  },
  {
   "cell_type": "code",
   "execution_count": 41,
   "metadata": {},
   "outputs": [],
   "source": [
    "results_VII = requests.get(url_VII).json()"
   ]
  },
  {
   "cell_type": "code",
   "execution_count": 42,
   "metadata": {},
   "outputs": [
    {
     "data": {
      "text/html": [
       "<div>\n",
       "<style scoped>\n",
       "    .dataframe tbody tr th:only-of-type {\n",
       "        vertical-align: middle;\n",
       "    }\n",
       "\n",
       "    .dataframe tbody tr th {\n",
       "        vertical-align: top;\n",
       "    }\n",
       "\n",
       "    .dataframe thead th {\n",
       "        text-align: right;\n",
       "    }\n",
       "</style>\n",
       "<table border=\"1\" class=\"dataframe\">\n",
       "  <thead>\n",
       "    <tr style=\"text-align: right;\">\n",
       "      <th></th>\n",
       "      <th>name</th>\n",
       "      <th>categories</th>\n",
       "      <th>lat</th>\n",
       "      <th>lng</th>\n",
       "    </tr>\n",
       "  </thead>\n",
       "  <tbody>\n",
       "    <tr>\n",
       "      <th>0</th>\n",
       "      <td>Cinemusic Hotel</td>\n",
       "      <td>Hotel</td>\n",
       "      <td>41.843860</td>\n",
       "      <td>12.583050</td>\n",
       "    </tr>\n",
       "    <tr>\n",
       "      <th>1</th>\n",
       "      <td>IKEA Roma Anagnina</td>\n",
       "      <td>Furniture / Home Store</td>\n",
       "      <td>41.835662</td>\n",
       "      <td>12.593249</td>\n",
       "    </tr>\n",
       "    <tr>\n",
       "      <th>2</th>\n",
       "      <td>Hop &amp; Pork</td>\n",
       "      <td>Brewery</td>\n",
       "      <td>41.847714</td>\n",
       "      <td>12.591199</td>\n",
       "    </tr>\n",
       "    <tr>\n",
       "      <th>3</th>\n",
       "      <td>Casale Consolini</td>\n",
       "      <td>Italian Restaurant</td>\n",
       "      <td>41.842164</td>\n",
       "      <td>12.572803</td>\n",
       "    </tr>\n",
       "    <tr>\n",
       "      <th>4</th>\n",
       "      <td>McDonald's</td>\n",
       "      <td>Fast Food Restaurant</td>\n",
       "      <td>41.838336</td>\n",
       "      <td>12.593955</td>\n",
       "    </tr>\n",
       "  </tbody>\n",
       "</table>\n",
       "</div>"
      ],
      "text/plain": [
       "                 name              categories        lat        lng\n",
       "0     Cinemusic Hotel                   Hotel  41.843860  12.583050\n",
       "1  IKEA Roma Anagnina  Furniture / Home Store  41.835662  12.593249\n",
       "2          Hop & Pork                 Brewery  41.847714  12.591199\n",
       "3    Casale Consolini      Italian Restaurant  41.842164  12.572803\n",
       "4          McDonald's    Fast Food Restaurant  41.838336  12.593955"
      ]
     },
     "execution_count": 42,
     "metadata": {},
     "output_type": "execute_result"
    }
   ],
   "source": [
    "venues_VII = results_VII['response']['groups'][0]['items']\n",
    "    \n",
    "nearby_venues_VII = json_normalize(venues_VII) # flatten JSON\n",
    "\n",
    "# filter columns\n",
    "filtered_columns = ['venue.name', 'venue.categories', 'venue.location.lat', 'venue.location.lng']\n",
    "nearby_venues_VII =nearby_venues_VII.loc[:, filtered_columns]\n",
    "\n",
    "# filter the category for each row\n",
    "nearby_venues_VII['venue.categories'] = nearby_venues_VII.apply(get_category_type, axis=1)\n",
    "\n",
    "# clean columns\n",
    "nearby_venues_VII.columns = [col.split(\".\")[-1] for col in nearby_venues_VII.columns]\n",
    "\n",
    "nearby_venues_VII.head()\n"
   ]
  },
  {
   "cell_type": "markdown",
   "metadata": {},
   "source": [
    "Search for only Pizza places or Italian restaurants"
   ]
  },
  {
   "cell_type": "code",
   "execution_count": 43,
   "metadata": {
    "scrolled": false
   },
   "outputs": [
    {
     "data": {
      "text/html": [
       "<div>\n",
       "<style scoped>\n",
       "    .dataframe tbody tr th:only-of-type {\n",
       "        vertical-align: middle;\n",
       "    }\n",
       "\n",
       "    .dataframe tbody tr th {\n",
       "        vertical-align: top;\n",
       "    }\n",
       "\n",
       "    .dataframe thead th {\n",
       "        text-align: right;\n",
       "    }\n",
       "</style>\n",
       "<table border=\"1\" class=\"dataframe\">\n",
       "  <thead>\n",
       "    <tr style=\"text-align: right;\">\n",
       "      <th></th>\n",
       "      <th>name</th>\n",
       "      <th>categories</th>\n",
       "      <th>lat</th>\n",
       "      <th>lng</th>\n",
       "    </tr>\n",
       "  </thead>\n",
       "  <tbody>\n",
       "    <tr>\n",
       "      <th>3</th>\n",
       "      <td>Casale Consolini</td>\n",
       "      <td>Italian Restaurant</td>\n",
       "      <td>41.842164</td>\n",
       "      <td>12.572803</td>\n",
       "    </tr>\n",
       "    <tr>\n",
       "      <th>6</th>\n",
       "      <td>Ristorante Paradiso Terrestre</td>\n",
       "      <td>Italian Restaurant</td>\n",
       "      <td>41.835558</td>\n",
       "      <td>12.572487</td>\n",
       "    </tr>\n",
       "    <tr>\n",
       "      <th>9</th>\n",
       "      <td>L'Allegra Fattoria</td>\n",
       "      <td>Italian Restaurant</td>\n",
       "      <td>41.833271</td>\n",
       "      <td>12.568820</td>\n",
       "    </tr>\n",
       "    <tr>\n",
       "      <th>20</th>\n",
       "      <td>La Gazza</td>\n",
       "      <td>Pizza Place</td>\n",
       "      <td>41.839815</td>\n",
       "      <td>12.588854</td>\n",
       "    </tr>\n",
       "    <tr>\n",
       "      <th>25</th>\n",
       "      <td>Cottage</td>\n",
       "      <td>Pizza Place</td>\n",
       "      <td>41.844709</td>\n",
       "      <td>12.574947</td>\n",
       "    </tr>\n",
       "  </tbody>\n",
       "</table>\n",
       "</div>"
      ],
      "text/plain": [
       "                             name          categories        lat        lng\n",
       "3                Casale Consolini  Italian Restaurant  41.842164  12.572803\n",
       "6   Ristorante Paradiso Terrestre  Italian Restaurant  41.835558  12.572487\n",
       "9              L'Allegra Fattoria  Italian Restaurant  41.833271  12.568820\n",
       "20                       La Gazza         Pizza Place  41.839815  12.588854\n",
       "25                        Cottage         Pizza Place  41.844709  12.574947"
      ]
     },
     "execution_count": 43,
     "metadata": {},
     "output_type": "execute_result"
    }
   ],
   "source": [
    "Venues_VII = nearby_venues_VII.loc[nearby_venues_VII['categories'].isin(['Pizza Place','Italian Restaurant'])]\n",
    "Venues_VII"
   ]
  },
  {
   "cell_type": "markdown",
   "metadata": {},
   "source": [
    "Find eighth neighborhood"
   ]
  },
  {
   "cell_type": "code",
   "execution_count": 44,
   "metadata": {},
   "outputs": [
    {
     "name": "stdout",
     "output_type": "stream",
     "text": [
      "Latitude and longitude values of Appia Antica are 41.82802, 12.52934\n"
     ]
    }
   ],
   "source": [
    "neighborhood_latitude_VIII = merged_data.loc[7, 'Latitude']\n",
    "neighborhood_longitude_VIII = merged_data.loc[7, 'Longitude']\n",
    "neighborhood_name_VIII = merged_data.loc[7, 'Neighborhood']\n",
    "\n",
    "print('Latitude and longitude values of {} are {}, {}'.format(neighborhood_name_VIII, neighborhood_latitude_VIII, neighborhood_longitude_VIII))"
   ]
  },
  {
   "cell_type": "markdown",
   "metadata": {},
   "source": [
    "Get top 100 venues in **Appia Antica** within radius of 1500 meters"
   ]
  },
  {
   "cell_type": "code",
   "execution_count": 45,
   "metadata": {},
   "outputs": [
    {
     "data": {
      "text/plain": [
       "'https://api.foursquare.com/v2/venues/explore?&client_id=ERP4VLV1V2S50EPBVX0WP1PSBSKGF3AHZBIXU5CGOYS3LMEZ&client_secret=Z5NGERSC4UNC1ZZUB0SDGUY11OZ1GQ1M3AMJQCQ02RQIB4S4&v=20180605&ll=41.82802,12.52934&radius=1500&limit=100'"
      ]
     },
     "execution_count": 45,
     "metadata": {},
     "output_type": "execute_result"
    }
   ],
   "source": [
    "LIMIT = 100\n",
    "radius = 1500\n",
    "url_VIII = 'https://api.foursquare.com/v2/venues/explore?&client_id={}&client_secret={}&v={}&ll={},{}&radius={}&limit={}'.format(\n",
    "    CLIENT_ID, \n",
    "    CLIENT_SECRET, \n",
    "    VERSION, \n",
    "    neighborhood_latitude_VIII, \n",
    "    neighborhood_longitude_VIII, \n",
    "    radius, \n",
    "    LIMIT)\n",
    "url_VIII"
   ]
  },
  {
   "cell_type": "code",
   "execution_count": 46,
   "metadata": {},
   "outputs": [],
   "source": [
    "results_VIII = requests.get(url_VIII).json()"
   ]
  },
  {
   "cell_type": "code",
   "execution_count": 47,
   "metadata": {},
   "outputs": [
    {
     "data": {
      "text/html": [
       "<div>\n",
       "<style scoped>\n",
       "    .dataframe tbody tr th:only-of-type {\n",
       "        vertical-align: middle;\n",
       "    }\n",
       "\n",
       "    .dataframe tbody tr th {\n",
       "        vertical-align: top;\n",
       "    }\n",
       "\n",
       "    .dataframe thead th {\n",
       "        text-align: right;\n",
       "    }\n",
       "</style>\n",
       "<table border=\"1\" class=\"dataframe\">\n",
       "  <thead>\n",
       "    <tr style=\"text-align: right;\">\n",
       "      <th></th>\n",
       "      <th>name</th>\n",
       "      <th>categories</th>\n",
       "      <th>lat</th>\n",
       "      <th>lng</th>\n",
       "    </tr>\n",
       "  </thead>\n",
       "  <tbody>\n",
       "    <tr>\n",
       "      <th>0</th>\n",
       "      <td>Circolo Tennis Oasi di Pace</td>\n",
       "      <td>Tennis Court</td>\n",
       "      <td>41.834175</td>\n",
       "      <td>12.533059</td>\n",
       "    </tr>\n",
       "    <tr>\n",
       "      <th>1</th>\n",
       "      <td>Centro Sportivo Le Magnolie</td>\n",
       "      <td>Pool</td>\n",
       "      <td>41.826502</td>\n",
       "      <td>12.527445</td>\n",
       "    </tr>\n",
       "    <tr>\n",
       "      <th>2</th>\n",
       "      <td>Dea di Roma</td>\n",
       "      <td>Pizza Place</td>\n",
       "      <td>41.821953</td>\n",
       "      <td>12.519190</td>\n",
       "    </tr>\n",
       "    <tr>\n",
       "      <th>3</th>\n",
       "      <td>Evodia Club</td>\n",
       "      <td>Soccer Field</td>\n",
       "      <td>41.827036</td>\n",
       "      <td>12.527632</td>\n",
       "    </tr>\n",
       "    <tr>\n",
       "      <th>4</th>\n",
       "      <td>Circolo Tennis Magnolie</td>\n",
       "      <td>Tennis Stadium</td>\n",
       "      <td>41.826491</td>\n",
       "      <td>12.527417</td>\n",
       "    </tr>\n",
       "  </tbody>\n",
       "</table>\n",
       "</div>"
      ],
      "text/plain": [
       "                          name      categories        lat        lng\n",
       "0  Circolo Tennis Oasi di Pace    Tennis Court  41.834175  12.533059\n",
       "1  Centro Sportivo Le Magnolie            Pool  41.826502  12.527445\n",
       "2                  Dea di Roma     Pizza Place  41.821953  12.519190\n",
       "3                  Evodia Club    Soccer Field  41.827036  12.527632\n",
       "4      Circolo Tennis Magnolie  Tennis Stadium  41.826491  12.527417"
      ]
     },
     "execution_count": 47,
     "metadata": {},
     "output_type": "execute_result"
    }
   ],
   "source": [
    "venues_VIII = results_VIII['response']['groups'][0]['items']\n",
    "    \n",
    "nearby_venues_VIII = json_normalize(venues_VIII) # flatten JSON\n",
    "\n",
    "# filter columns\n",
    "filtered_columns = ['venue.name', 'venue.categories', 'venue.location.lat', 'venue.location.lng']\n",
    "nearby_venues_VIII =nearby_venues_VIII.loc[:, filtered_columns]\n",
    "\n",
    "# filter the category for each row\n",
    "nearby_venues_VIII['venue.categories'] = nearby_venues_VIII.apply(get_category_type, axis=1)\n",
    "\n",
    "# clean columns\n",
    "nearby_venues_VIII.columns = [col.split(\".\")[-1] for col in nearby_venues_VIII.columns]\n",
    "\n",
    "nearby_venues_VIII.head()\n"
   ]
  },
  {
   "cell_type": "markdown",
   "metadata": {},
   "source": [
    "Search for only Pizza places or Italian restaurants"
   ]
  },
  {
   "cell_type": "code",
   "execution_count": 48,
   "metadata": {
    "scrolled": false
   },
   "outputs": [
    {
     "data": {
      "text/html": [
       "<div>\n",
       "<style scoped>\n",
       "    .dataframe tbody tr th:only-of-type {\n",
       "        vertical-align: middle;\n",
       "    }\n",
       "\n",
       "    .dataframe tbody tr th {\n",
       "        vertical-align: top;\n",
       "    }\n",
       "\n",
       "    .dataframe thead th {\n",
       "        text-align: right;\n",
       "    }\n",
       "</style>\n",
       "<table border=\"1\" class=\"dataframe\">\n",
       "  <thead>\n",
       "    <tr style=\"text-align: right;\">\n",
       "      <th></th>\n",
       "      <th>name</th>\n",
       "      <th>categories</th>\n",
       "      <th>lat</th>\n",
       "      <th>lng</th>\n",
       "    </tr>\n",
       "  </thead>\n",
       "  <tbody>\n",
       "    <tr>\n",
       "      <th>2</th>\n",
       "      <td>Dea di Roma</td>\n",
       "      <td>Pizza Place</td>\n",
       "      <td>41.821953</td>\n",
       "      <td>12.51919</td>\n",
       "    </tr>\n",
       "  </tbody>\n",
       "</table>\n",
       "</div>"
      ],
      "text/plain": [
       "          name   categories        lat       lng\n",
       "2  Dea di Roma  Pizza Place  41.821953  12.51919"
      ]
     },
     "execution_count": 48,
     "metadata": {},
     "output_type": "execute_result"
    }
   ],
   "source": [
    "Venues_VIII = nearby_venues_VIII.loc[nearby_venues_VIII['categories'].isin(['Pizza Place','Italian Restaurant'])]\n",
    "Venues_VIII"
   ]
  },
  {
   "cell_type": "markdown",
   "metadata": {},
   "source": [
    "Find ninth neighborhood"
   ]
  },
  {
   "cell_type": "code",
   "execution_count": 49,
   "metadata": {},
   "outputs": [
    {
     "name": "stdout",
     "output_type": "stream",
     "text": [
      "Latitude and longitude values of EUR are 41.757, 12.49799\n"
     ]
    }
   ],
   "source": [
    "neighborhood_latitude_IX = merged_data.loc[8, 'Latitude']\n",
    "neighborhood_longitude_IX = merged_data.loc[8, 'Longitude']\n",
    "neighborhood_name_IX = merged_data.loc[8, 'Neighborhood']\n",
    "\n",
    "print('Latitude and longitude values of {} are {}, {}'.format(neighborhood_name_IX, neighborhood_latitude_IX, neighborhood_longitude_IX))"
   ]
  },
  {
   "cell_type": "markdown",
   "metadata": {},
   "source": [
    "Get top 100 venues in **EUR** within radius of 1500 meters"
   ]
  },
  {
   "cell_type": "code",
   "execution_count": 50,
   "metadata": {},
   "outputs": [
    {
     "data": {
      "text/plain": [
       "'https://api.foursquare.com/v2/venues/explore?&client_id=ERP4VLV1V2S50EPBVX0WP1PSBSKGF3AHZBIXU5CGOYS3LMEZ&client_secret=Z5NGERSC4UNC1ZZUB0SDGUY11OZ1GQ1M3AMJQCQ02RQIB4S4&v=20180605&ll=41.757,12.49799&radius=1500&limit=100'"
      ]
     },
     "execution_count": 50,
     "metadata": {},
     "output_type": "execute_result"
    }
   ],
   "source": [
    "LIMIT = 100\n",
    "radius = 1500\n",
    "url_IX = 'https://api.foursquare.com/v2/venues/explore?&client_id={}&client_secret={}&v={}&ll={},{}&radius={}&limit={}'.format(\n",
    "    CLIENT_ID, \n",
    "    CLIENT_SECRET, \n",
    "    VERSION, \n",
    "    neighborhood_latitude_IX, \n",
    "    neighborhood_longitude_IX, \n",
    "    radius, \n",
    "    LIMIT)\n",
    "url_IX"
   ]
  },
  {
   "cell_type": "code",
   "execution_count": 51,
   "metadata": {},
   "outputs": [],
   "source": [
    "results_IX = requests.get(url_IX).json()"
   ]
  },
  {
   "cell_type": "code",
   "execution_count": 52,
   "metadata": {},
   "outputs": [
    {
     "data": {
      "text/html": [
       "<div>\n",
       "<style scoped>\n",
       "    .dataframe tbody tr th:only-of-type {\n",
       "        vertical-align: middle;\n",
       "    }\n",
       "\n",
       "    .dataframe tbody tr th {\n",
       "        vertical-align: top;\n",
       "    }\n",
       "\n",
       "    .dataframe thead th {\n",
       "        text-align: right;\n",
       "    }\n",
       "</style>\n",
       "<table border=\"1\" class=\"dataframe\">\n",
       "  <thead>\n",
       "    <tr style=\"text-align: right;\">\n",
       "      <th></th>\n",
       "      <th>name</th>\n",
       "      <th>categories</th>\n",
       "      <th>lat</th>\n",
       "      <th>lng</th>\n",
       "    </tr>\n",
       "  </thead>\n",
       "  <tbody>\n",
       "    <tr>\n",
       "      <th>0</th>\n",
       "      <td>Zampetta</td>\n",
       "      <td>Pet Store</td>\n",
       "      <td>41.751607</td>\n",
       "      <td>12.501015</td>\n",
       "    </tr>\n",
       "    <tr>\n",
       "      <th>1</th>\n",
       "      <td>laghi di trigoria</td>\n",
       "      <td>Lake</td>\n",
       "      <td>41.749958</td>\n",
       "      <td>12.482972</td>\n",
       "    </tr>\n",
       "    <tr>\n",
       "      <th>2</th>\n",
       "      <td>Belvedere Giovanni XXIII</td>\n",
       "      <td>Scenic Lookout</td>\n",
       "      <td>41.762611</td>\n",
       "      <td>12.481611</td>\n",
       "    </tr>\n",
       "  </tbody>\n",
       "</table>\n",
       "</div>"
      ],
      "text/plain": [
       "                       name      categories        lat        lng\n",
       "0                  Zampetta       Pet Store  41.751607  12.501015\n",
       "1         laghi di trigoria            Lake  41.749958  12.482972\n",
       "2  Belvedere Giovanni XXIII  Scenic Lookout  41.762611  12.481611"
      ]
     },
     "execution_count": 52,
     "metadata": {},
     "output_type": "execute_result"
    }
   ],
   "source": [
    "venues_IX = results_IX['response']['groups'][0]['items']\n",
    "    \n",
    "nearby_venues_IX = json_normalize(venues_IX) # flatten JSON\n",
    "\n",
    "# filter columns\n",
    "filtered_columns = ['venue.name', 'venue.categories', 'venue.location.lat', 'venue.location.lng']\n",
    "nearby_venues_IX =nearby_venues_IX.loc[:, filtered_columns]\n",
    "\n",
    "# filter the category for each row\n",
    "nearby_venues_IX['venue.categories'] = nearby_venues_IX.apply(get_category_type, axis=1)\n",
    "\n",
    "# clean columns\n",
    "nearby_venues_IX.columns = [col.split(\".\")[-1] for col in nearby_venues_IX.columns]\n",
    "\n",
    "nearby_venues_IX.head()\n"
   ]
  },
  {
   "cell_type": "markdown",
   "metadata": {},
   "source": [
    "Search for only Pizza places or Italian restaurants"
   ]
  },
  {
   "cell_type": "code",
   "execution_count": 53,
   "metadata": {
    "scrolled": false
   },
   "outputs": [
    {
     "data": {
      "text/html": [
       "<div>\n",
       "<style scoped>\n",
       "    .dataframe tbody tr th:only-of-type {\n",
       "        vertical-align: middle;\n",
       "    }\n",
       "\n",
       "    .dataframe tbody tr th {\n",
       "        vertical-align: top;\n",
       "    }\n",
       "\n",
       "    .dataframe thead th {\n",
       "        text-align: right;\n",
       "    }\n",
       "</style>\n",
       "<table border=\"1\" class=\"dataframe\">\n",
       "  <thead>\n",
       "    <tr style=\"text-align: right;\">\n",
       "      <th></th>\n",
       "      <th>name</th>\n",
       "      <th>categories</th>\n",
       "      <th>lat</th>\n",
       "      <th>lng</th>\n",
       "    </tr>\n",
       "  </thead>\n",
       "  <tbody>\n",
       "  </tbody>\n",
       "</table>\n",
       "</div>"
      ],
      "text/plain": [
       "Empty DataFrame\n",
       "Columns: [name, categories, lat, lng]\n",
       "Index: []"
      ]
     },
     "execution_count": 53,
     "metadata": {},
     "output_type": "execute_result"
    }
   ],
   "source": [
    "Venues_IX = nearby_venues_IX.loc[nearby_venues_IX['categories'].isin(['Pizza Place','Italian Restaurant'])]\n",
    "Venues_IX"
   ]
  },
  {
   "cell_type": "markdown",
   "metadata": {},
   "source": [
    "Find tenth neighborhood"
   ]
  },
  {
   "cell_type": "code",
   "execution_count": 54,
   "metadata": {},
   "outputs": [
    {
     "name": "stdout",
     "output_type": "stream",
     "text": [
      "Latitude and longitude values of Ostia/Acilia are 41.73875, 12.36328\n"
     ]
    }
   ],
   "source": [
    "neighborhood_latitude_X = merged_data.loc[9, 'Latitude']\n",
    "neighborhood_longitude_X = merged_data.loc[9, 'Longitude']\n",
    "neighborhood_name_X = merged_data.loc[9, 'Neighborhood']\n",
    "\n",
    "print('Latitude and longitude values of {} are {}, {}'.format(neighborhood_name_X, neighborhood_latitude_X, neighborhood_longitude_X))"
   ]
  },
  {
   "cell_type": "markdown",
   "metadata": {},
   "source": [
    "Get top 100 venues in **Ostia/Acilia** within radius of 1500 meters"
   ]
  },
  {
   "cell_type": "code",
   "execution_count": 55,
   "metadata": {},
   "outputs": [
    {
     "data": {
      "text/plain": [
       "'https://api.foursquare.com/v2/venues/explore?&client_id=ERP4VLV1V2S50EPBVX0WP1PSBSKGF3AHZBIXU5CGOYS3LMEZ&client_secret=Z5NGERSC4UNC1ZZUB0SDGUY11OZ1GQ1M3AMJQCQ02RQIB4S4&v=20180605&ll=41.73875,12.36328&radius=1500&limit=100'"
      ]
     },
     "execution_count": 55,
     "metadata": {},
     "output_type": "execute_result"
    }
   ],
   "source": [
    "LIMIT = 100\n",
    "radius = 1500\n",
    "url_X = 'https://api.foursquare.com/v2/venues/explore?&client_id={}&client_secret={}&v={}&ll={},{}&radius={}&limit={}'.format(\n",
    "    CLIENT_ID, \n",
    "    CLIENT_SECRET, \n",
    "    VERSION, \n",
    "    neighborhood_latitude_X, \n",
    "    neighborhood_longitude_X, \n",
    "    radius, \n",
    "    LIMIT)\n",
    "url_X"
   ]
  },
  {
   "cell_type": "code",
   "execution_count": 56,
   "metadata": {},
   "outputs": [],
   "source": [
    "results_X = requests.get(url_X).json()"
   ]
  },
  {
   "cell_type": "code",
   "execution_count": 57,
   "metadata": {},
   "outputs": [
    {
     "data": {
      "text/html": [
       "<div>\n",
       "<style scoped>\n",
       "    .dataframe tbody tr th:only-of-type {\n",
       "        vertical-align: middle;\n",
       "    }\n",
       "\n",
       "    .dataframe tbody tr th {\n",
       "        vertical-align: top;\n",
       "    }\n",
       "\n",
       "    .dataframe thead th {\n",
       "        text-align: right;\n",
       "    }\n",
       "</style>\n",
       "<table border=\"1\" class=\"dataframe\">\n",
       "  <thead>\n",
       "    <tr style=\"text-align: right;\">\n",
       "      <th></th>\n",
       "      <th>name</th>\n",
       "      <th>categories</th>\n",
       "      <th>lat</th>\n",
       "      <th>lng</th>\n",
       "    </tr>\n",
       "  </thead>\n",
       "  <tbody>\n",
       "    <tr>\n",
       "      <th>0</th>\n",
       "      <td>jin xin yuan</td>\n",
       "      <td>Asian Restaurant</td>\n",
       "      <td>41.733009</td>\n",
       "      <td>12.368661</td>\n",
       "    </tr>\n",
       "    <tr>\n",
       "      <th>1</th>\n",
       "      <td>Carrefour Market</td>\n",
       "      <td>Supermarket</td>\n",
       "      <td>41.740265</td>\n",
       "      <td>12.370734</td>\n",
       "    </tr>\n",
       "    <tr>\n",
       "      <th>2</th>\n",
       "      <td>cinghiale</td>\n",
       "      <td>Italian Restaurant</td>\n",
       "      <td>41.731761</td>\n",
       "      <td>12.350988</td>\n",
       "    </tr>\n",
       "    <tr>\n",
       "      <th>3</th>\n",
       "      <td>Isola Verde</td>\n",
       "      <td>Pool</td>\n",
       "      <td>41.747098</td>\n",
       "      <td>12.355040</td>\n",
       "    </tr>\n",
       "    <tr>\n",
       "      <th>4</th>\n",
       "      <td>Old Wild West</td>\n",
       "      <td>Fast Food Restaurant</td>\n",
       "      <td>41.751656</td>\n",
       "      <td>12.367830</td>\n",
       "    </tr>\n",
       "  </tbody>\n",
       "</table>\n",
       "</div>"
      ],
      "text/plain": [
       "               name            categories        lat        lng\n",
       "0      jin xin yuan      Asian Restaurant  41.733009  12.368661\n",
       "1  Carrefour Market           Supermarket  41.740265  12.370734\n",
       "2         cinghiale    Italian Restaurant  41.731761  12.350988\n",
       "3       Isola Verde                  Pool  41.747098  12.355040\n",
       "4     Old Wild West  Fast Food Restaurant  41.751656  12.367830"
      ]
     },
     "execution_count": 57,
     "metadata": {},
     "output_type": "execute_result"
    }
   ],
   "source": [
    "venues_X = results_X['response']['groups'][0]['items']\n",
    "    \n",
    "nearby_venues_X = json_normalize(venues_X) # flatten JSON\n",
    "\n",
    "# filter columns\n",
    "filtered_columns = ['venue.name', 'venue.categories', 'venue.location.lat', 'venue.location.lng']\n",
    "nearby_venues_X =nearby_venues_X.loc[:, filtered_columns]\n",
    "\n",
    "# filter the category for each row\n",
    "nearby_venues_X['venue.categories'] = nearby_venues_X.apply(get_category_type, axis=1)\n",
    "\n",
    "# clean columns\n",
    "nearby_venues_X.columns = [col.split(\".\")[-1] for col in nearby_venues_X.columns]\n",
    "\n",
    "nearby_venues_X.head()\n"
   ]
  },
  {
   "cell_type": "markdown",
   "metadata": {},
   "source": [
    "Search for only Pizza places or Italian restaurants"
   ]
  },
  {
   "cell_type": "code",
   "execution_count": 58,
   "metadata": {
    "scrolled": false
   },
   "outputs": [
    {
     "data": {
      "text/html": [
       "<div>\n",
       "<style scoped>\n",
       "    .dataframe tbody tr th:only-of-type {\n",
       "        vertical-align: middle;\n",
       "    }\n",
       "\n",
       "    .dataframe tbody tr th {\n",
       "        vertical-align: top;\n",
       "    }\n",
       "\n",
       "    .dataframe thead th {\n",
       "        text-align: right;\n",
       "    }\n",
       "</style>\n",
       "<table border=\"1\" class=\"dataframe\">\n",
       "  <thead>\n",
       "    <tr style=\"text-align: right;\">\n",
       "      <th></th>\n",
       "      <th>name</th>\n",
       "      <th>categories</th>\n",
       "      <th>lat</th>\n",
       "      <th>lng</th>\n",
       "    </tr>\n",
       "  </thead>\n",
       "  <tbody>\n",
       "    <tr>\n",
       "      <th>2</th>\n",
       "      <td>cinghiale</td>\n",
       "      <td>Italian Restaurant</td>\n",
       "      <td>41.731761</td>\n",
       "      <td>12.350988</td>\n",
       "    </tr>\n",
       "    <tr>\n",
       "      <th>6</th>\n",
       "      <td>La Cucineria</td>\n",
       "      <td>Italian Restaurant</td>\n",
       "      <td>41.746590</td>\n",
       "      <td>12.363911</td>\n",
       "    </tr>\n",
       "    <tr>\n",
       "      <th>7</th>\n",
       "      <td>I GLADIATORI Osteria romana pizzeria</td>\n",
       "      <td>Italian Restaurant</td>\n",
       "      <td>41.748207</td>\n",
       "      <td>12.369010</td>\n",
       "    </tr>\n",
       "    <tr>\n",
       "      <th>9</th>\n",
       "      <td>Fraschetta Da Matteo</td>\n",
       "      <td>Italian Restaurant</td>\n",
       "      <td>41.735674</td>\n",
       "      <td>12.345803</td>\n",
       "    </tr>\n",
       "    <tr>\n",
       "      <th>16</th>\n",
       "      <td>Trattoria i Ciarli</td>\n",
       "      <td>Italian Restaurant</td>\n",
       "      <td>41.737081</td>\n",
       "      <td>12.374867</td>\n",
       "    </tr>\n",
       "    <tr>\n",
       "      <th>17</th>\n",
       "      <td>La Terrazza</td>\n",
       "      <td>Italian Restaurant</td>\n",
       "      <td>41.747214</td>\n",
       "      <td>12.354746</td>\n",
       "    </tr>\n",
       "  </tbody>\n",
       "</table>\n",
       "</div>"
      ],
      "text/plain": [
       "                                    name          categories        lat  \\\n",
       "2                              cinghiale  Italian Restaurant  41.731761   \n",
       "6                           La Cucineria  Italian Restaurant  41.746590   \n",
       "7   I GLADIATORI Osteria romana pizzeria  Italian Restaurant  41.748207   \n",
       "9                   Fraschetta Da Matteo  Italian Restaurant  41.735674   \n",
       "16                    Trattoria i Ciarli  Italian Restaurant  41.737081   \n",
       "17                           La Terrazza  Italian Restaurant  41.747214   \n",
       "\n",
       "          lng  \n",
       "2   12.350988  \n",
       "6   12.363911  \n",
       "7   12.369010  \n",
       "9   12.345803  \n",
       "16  12.374867  \n",
       "17  12.354746  "
      ]
     },
     "execution_count": 58,
     "metadata": {},
     "output_type": "execute_result"
    }
   ],
   "source": [
    "Venues_X = nearby_venues_X.loc[nearby_venues_X['categories'].isin(['Pizza Place','Italian Restaurant'])]\n",
    "Venues_X"
   ]
  },
  {
   "cell_type": "markdown",
   "metadata": {},
   "source": [
    "Find eleventh neighborhood"
   ]
  },
  {
   "cell_type": "code",
   "execution_count": 59,
   "metadata": {},
   "outputs": [
    {
     "name": "stdout",
     "output_type": "stream",
     "text": [
      "Latitude and longitude values of Arvalia/Portuense are 41.830020000000005, 12.37696\n"
     ]
    }
   ],
   "source": [
    "neighborhood_latitude_XI = merged_data.loc[10, 'Latitude']\n",
    "neighborhood_longitude_XI = merged_data.loc[10, 'Longitude']\n",
    "neighborhood_name_XI = merged_data.loc[10, 'Neighborhood']\n",
    "\n",
    "print('Latitude and longitude values of {} are {}, {}'.format(neighborhood_name_XI, neighborhood_latitude_XI, neighborhood_longitude_XI))"
   ]
  },
  {
   "cell_type": "markdown",
   "metadata": {},
   "source": [
    "Get top 100 venues in **Arvalia/Portuense** within radius of 1500 meters"
   ]
  },
  {
   "cell_type": "code",
   "execution_count": 60,
   "metadata": {},
   "outputs": [
    {
     "data": {
      "text/plain": [
       "'https://api.foursquare.com/v2/venues/explore?&client_id=ERP4VLV1V2S50EPBVX0WP1PSBSKGF3AHZBIXU5CGOYS3LMEZ&client_secret=Z5NGERSC4UNC1ZZUB0SDGUY11OZ1GQ1M3AMJQCQ02RQIB4S4&v=20180605&ll=41.830020000000005,12.37696&radius=1500&limit=100'"
      ]
     },
     "execution_count": 60,
     "metadata": {},
     "output_type": "execute_result"
    }
   ],
   "source": [
    "LIMIT = 100\n",
    "radius = 1500\n",
    "url_XI = 'https://api.foursquare.com/v2/venues/explore?&client_id={}&client_secret={}&v={}&ll={},{}&radius={}&limit={}'.format(\n",
    "    CLIENT_ID, \n",
    "    CLIENT_SECRET, \n",
    "    VERSION, \n",
    "    neighborhood_latitude_XI, \n",
    "    neighborhood_longitude_XI, \n",
    "    radius, \n",
    "    LIMIT)\n",
    "url_XI"
   ]
  },
  {
   "cell_type": "code",
   "execution_count": 61,
   "metadata": {},
   "outputs": [],
   "source": [
    "results_XI = requests.get(url_XI).json()"
   ]
  },
  {
   "cell_type": "code",
   "execution_count": 62,
   "metadata": {},
   "outputs": [
    {
     "data": {
      "text/html": [
       "<div>\n",
       "<style scoped>\n",
       "    .dataframe tbody tr th:only-of-type {\n",
       "        vertical-align: middle;\n",
       "    }\n",
       "\n",
       "    .dataframe tbody tr th {\n",
       "        vertical-align: top;\n",
       "    }\n",
       "\n",
       "    .dataframe thead th {\n",
       "        text-align: right;\n",
       "    }\n",
       "</style>\n",
       "<table border=\"1\" class=\"dataframe\">\n",
       "  <thead>\n",
       "    <tr style=\"text-align: right;\">\n",
       "      <th></th>\n",
       "      <th>name</th>\n",
       "      <th>categories</th>\n",
       "      <th>lat</th>\n",
       "      <th>lng</th>\n",
       "    </tr>\n",
       "  </thead>\n",
       "  <tbody>\n",
       "    <tr>\n",
       "      <th>0</th>\n",
       "      <td>Executive Lounge Marriott Park</td>\n",
       "      <td>Hotel Bar</td>\n",
       "      <td>41.824698</td>\n",
       "      <td>12.391555</td>\n",
       "    </tr>\n",
       "    <tr>\n",
       "      <th>1</th>\n",
       "      <td>Rome Marriott Park Hotel</td>\n",
       "      <td>Hotel</td>\n",
       "      <td>41.824829</td>\n",
       "      <td>12.391934</td>\n",
       "    </tr>\n",
       "    <tr>\n",
       "      <th>2</th>\n",
       "      <td>Unieuro</td>\n",
       "      <td>Electronics Store</td>\n",
       "      <td>41.827237</td>\n",
       "      <td>12.386586</td>\n",
       "    </tr>\n",
       "    <tr>\n",
       "      <th>3</th>\n",
       "      <td>La Tedesca</td>\n",
       "      <td>Italian Restaurant</td>\n",
       "      <td>41.821790</td>\n",
       "      <td>12.374028</td>\n",
       "    </tr>\n",
       "    <tr>\n",
       "      <th>4</th>\n",
       "      <td>Emu Flag Store roma</td>\n",
       "      <td>Furniture / Home Store</td>\n",
       "      <td>41.824827</td>\n",
       "      <td>12.387354</td>\n",
       "    </tr>\n",
       "  </tbody>\n",
       "</table>\n",
       "</div>"
      ],
      "text/plain": [
       "                             name              categories        lat  \\\n",
       "0  Executive Lounge Marriott Park               Hotel Bar  41.824698   \n",
       "1        Rome Marriott Park Hotel                   Hotel  41.824829   \n",
       "2                         Unieuro       Electronics Store  41.827237   \n",
       "3                      La Tedesca      Italian Restaurant  41.821790   \n",
       "4             Emu Flag Store roma  Furniture / Home Store  41.824827   \n",
       "\n",
       "         lng  \n",
       "0  12.391555  \n",
       "1  12.391934  \n",
       "2  12.386586  \n",
       "3  12.374028  \n",
       "4  12.387354  "
      ]
     },
     "execution_count": 62,
     "metadata": {},
     "output_type": "execute_result"
    }
   ],
   "source": [
    "venues_XI = results_XI['response']['groups'][0]['items']\n",
    "    \n",
    "nearby_venues_XI = json_normalize(venues_XI) # flatten JSON\n",
    "\n",
    "# filter columns\n",
    "filtered_columns = ['venue.name', 'venue.categories', 'venue.location.lat', 'venue.location.lng']\n",
    "nearby_venues_XI =nearby_venues_XI.loc[:, filtered_columns]\n",
    "\n",
    "# filter the category for each row\n",
    "nearby_venues_XI['venue.categories'] = nearby_venues_XI.apply(get_category_type, axis=1)\n",
    "\n",
    "# clean columns\n",
    "nearby_venues_XI.columns = [col.split(\".\")[-1] for col in nearby_venues_XI.columns]\n",
    "\n",
    "nearby_venues_XI.head()\n"
   ]
  },
  {
   "cell_type": "markdown",
   "metadata": {},
   "source": [
    "Search for only Pizza places or Italian restaurants"
   ]
  },
  {
   "cell_type": "code",
   "execution_count": 63,
   "metadata": {
    "scrolled": false
   },
   "outputs": [
    {
     "data": {
      "text/html": [
       "<div>\n",
       "<style scoped>\n",
       "    .dataframe tbody tr th:only-of-type {\n",
       "        vertical-align: middle;\n",
       "    }\n",
       "\n",
       "    .dataframe tbody tr th {\n",
       "        vertical-align: top;\n",
       "    }\n",
       "\n",
       "    .dataframe thead th {\n",
       "        text-align: right;\n",
       "    }\n",
       "</style>\n",
       "<table border=\"1\" class=\"dataframe\">\n",
       "  <thead>\n",
       "    <tr style=\"text-align: right;\">\n",
       "      <th></th>\n",
       "      <th>name</th>\n",
       "      <th>categories</th>\n",
       "      <th>lat</th>\n",
       "      <th>lng</th>\n",
       "    </tr>\n",
       "  </thead>\n",
       "  <tbody>\n",
       "    <tr>\n",
       "      <th>3</th>\n",
       "      <td>La Tedesca</td>\n",
       "      <td>Italian Restaurant</td>\n",
       "      <td>41.82179</td>\n",
       "      <td>12.374028</td>\n",
       "    </tr>\n",
       "  </tbody>\n",
       "</table>\n",
       "</div>"
      ],
      "text/plain": [
       "         name          categories       lat        lng\n",
       "3  La Tedesca  Italian Restaurant  41.82179  12.374028"
      ]
     },
     "execution_count": 63,
     "metadata": {},
     "output_type": "execute_result"
    }
   ],
   "source": [
    "Venues_XI = nearby_venues_XI.loc[nearby_venues_XI['categories'].isin(['Pizza Place','Italian Restaurant'])]\n",
    "Venues_XI"
   ]
  },
  {
   "cell_type": "markdown",
   "metadata": {},
   "source": [
    "Find twelfth neighborhood"
   ]
  },
  {
   "cell_type": "code",
   "execution_count": 64,
   "metadata": {},
   "outputs": [
    {
     "name": "stdout",
     "output_type": "stream",
     "text": [
      "Latitude and longitude values of Monte Verde are 41.87037, 12.34497\n"
     ]
    }
   ],
   "source": [
    "neighborhood_latitude_XII = merged_data.loc[11, 'Latitude']\n",
    "neighborhood_longitude_XII = merged_data.loc[11, 'Longitude']\n",
    "neighborhood_name_XII = merged_data.loc[11, 'Neighborhood']\n",
    "\n",
    "print('Latitude and longitude values of {} are {}, {}'.format(neighborhood_name_XII, neighborhood_latitude_XII, neighborhood_longitude_XII))"
   ]
  },
  {
   "cell_type": "markdown",
   "metadata": {},
   "source": [
    "Get top 100 venues in **Monte Verde** within radius of 1500 meters"
   ]
  },
  {
   "cell_type": "code",
   "execution_count": 65,
   "metadata": {},
   "outputs": [
    {
     "data": {
      "text/plain": [
       "'https://api.foursquare.com/v2/venues/explore?&client_id=ERP4VLV1V2S50EPBVX0WP1PSBSKGF3AHZBIXU5CGOYS3LMEZ&client_secret=Z5NGERSC4UNC1ZZUB0SDGUY11OZ1GQ1M3AMJQCQ02RQIB4S4&v=20180605&ll=41.87037,12.34497&radius=1500&limit=100'"
      ]
     },
     "execution_count": 65,
     "metadata": {},
     "output_type": "execute_result"
    }
   ],
   "source": [
    "LIMIT = 100\n",
    "radius = 1500\n",
    "url_XII = 'https://api.foursquare.com/v2/venues/explore?&client_id={}&client_secret={}&v={}&ll={},{}&radius={}&limit={}'.format(\n",
    "    CLIENT_ID, \n",
    "    CLIENT_SECRET, \n",
    "    VERSION, \n",
    "    neighborhood_latitude_XII, \n",
    "    neighborhood_longitude_XII, \n",
    "    radius, \n",
    "    LIMIT)\n",
    "url_XII"
   ]
  },
  {
   "cell_type": "code",
   "execution_count": 66,
   "metadata": {},
   "outputs": [],
   "source": [
    "results_XII = requests.get(url_XII).json()"
   ]
  },
  {
   "cell_type": "code",
   "execution_count": 67,
   "metadata": {},
   "outputs": [
    {
     "data": {
      "text/html": [
       "<div>\n",
       "<style scoped>\n",
       "    .dataframe tbody tr th:only-of-type {\n",
       "        vertical-align: middle;\n",
       "    }\n",
       "\n",
       "    .dataframe tbody tr th {\n",
       "        vertical-align: top;\n",
       "    }\n",
       "\n",
       "    .dataframe thead th {\n",
       "        text-align: right;\n",
       "    }\n",
       "</style>\n",
       "<table border=\"1\" class=\"dataframe\">\n",
       "  <thead>\n",
       "    <tr style=\"text-align: right;\">\n",
       "      <th></th>\n",
       "      <th>name</th>\n",
       "      <th>categories</th>\n",
       "      <th>lat</th>\n",
       "      <th>lng</th>\n",
       "    </tr>\n",
       "  </thead>\n",
       "  <tbody>\n",
       "    <tr>\n",
       "      <th>0</th>\n",
       "      <td>Exclusivevent Srl</td>\n",
       "      <td>Buffet</td>\n",
       "      <td>41.870967</td>\n",
       "      <td>12.355607</td>\n",
       "    </tr>\n",
       "    <tr>\n",
       "      <th>1</th>\n",
       "      <td>Parco Della Massimilla</td>\n",
       "      <td>Park</td>\n",
       "      <td>41.869085</td>\n",
       "      <td>12.356961</td>\n",
       "    </tr>\n",
       "    <tr>\n",
       "      <th>2</th>\n",
       "      <td>Mondo Convenienza</td>\n",
       "      <td>Furniture / Home Store</td>\n",
       "      <td>41.882414</td>\n",
       "      <td>12.351476</td>\n",
       "    </tr>\n",
       "    <tr>\n",
       "      <th>3</th>\n",
       "      <td>Good Wok Restaurant</td>\n",
       "      <td>Chinese Restaurant</td>\n",
       "      <td>41.881547</td>\n",
       "      <td>12.347733</td>\n",
       "    </tr>\n",
       "  </tbody>\n",
       "</table>\n",
       "</div>"
      ],
      "text/plain": [
       "                     name              categories        lat        lng\n",
       "0       Exclusivevent Srl                  Buffet  41.870967  12.355607\n",
       "1  Parco Della Massimilla                    Park  41.869085  12.356961\n",
       "2       Mondo Convenienza  Furniture / Home Store  41.882414  12.351476\n",
       "3     Good Wok Restaurant      Chinese Restaurant  41.881547  12.347733"
      ]
     },
     "execution_count": 67,
     "metadata": {},
     "output_type": "execute_result"
    }
   ],
   "source": [
    "venues_XII = results_XII['response']['groups'][0]['items']\n",
    "    \n",
    "nearby_venues_XII = json_normalize(venues_XII) # flatten JSON\n",
    "\n",
    "# filter columns\n",
    "filtered_columns = ['venue.name', 'venue.categories', 'venue.location.lat', 'venue.location.lng']\n",
    "nearby_venues_XII =nearby_venues_XII.loc[:, filtered_columns]\n",
    "\n",
    "# filter the category for each row\n",
    "nearby_venues_XII['venue.categories'] = nearby_venues_XII.apply(get_category_type, axis=1)\n",
    "\n",
    "# clean columns\n",
    "nearby_venues_XII.columns = [col.split(\".\")[-1] for col in nearby_venues_XII.columns]\n",
    "\n",
    "nearby_venues_XII.head()\n"
   ]
  },
  {
   "cell_type": "markdown",
   "metadata": {},
   "source": [
    "Search for only Pizza places or Italian restaurants"
   ]
  },
  {
   "cell_type": "code",
   "execution_count": 68,
   "metadata": {
    "scrolled": false
   },
   "outputs": [
    {
     "data": {
      "text/html": [
       "<div>\n",
       "<style scoped>\n",
       "    .dataframe tbody tr th:only-of-type {\n",
       "        vertical-align: middle;\n",
       "    }\n",
       "\n",
       "    .dataframe tbody tr th {\n",
       "        vertical-align: top;\n",
       "    }\n",
       "\n",
       "    .dataframe thead th {\n",
       "        text-align: right;\n",
       "    }\n",
       "</style>\n",
       "<table border=\"1\" class=\"dataframe\">\n",
       "  <thead>\n",
       "    <tr style=\"text-align: right;\">\n",
       "      <th></th>\n",
       "      <th>name</th>\n",
       "      <th>categories</th>\n",
       "      <th>lat</th>\n",
       "      <th>lng</th>\n",
       "    </tr>\n",
       "  </thead>\n",
       "  <tbody>\n",
       "  </tbody>\n",
       "</table>\n",
       "</div>"
      ],
      "text/plain": [
       "Empty DataFrame\n",
       "Columns: [name, categories, lat, lng]\n",
       "Index: []"
      ]
     },
     "execution_count": 68,
     "metadata": {},
     "output_type": "execute_result"
    }
   ],
   "source": [
    "Venues_XII = nearby_venues_XII.loc[nearby_venues_XII['categories'].isin(['Pizza Place','Italian Restaurant'])]\n",
    "Venues_XII"
   ]
  },
  {
   "cell_type": "markdown",
   "metadata": {},
   "source": [
    "Find thirteenth neighborhood"
   ]
  },
  {
   "cell_type": "code",
   "execution_count": 69,
   "metadata": {},
   "outputs": [
    {
     "name": "stdout",
     "output_type": "stream",
     "text": [
      "Latitude and longitude values of Aurelia are 41.90979, 12.3463\n"
     ]
    }
   ],
   "source": [
    "neighborhood_latitude_XIII = merged_data.loc[12, 'Latitude']\n",
    "neighborhood_longitude_XIII = merged_data.loc[12, 'Longitude']\n",
    "neighborhood_name_XIII = merged_data.loc[12, 'Neighborhood']\n",
    "\n",
    "print('Latitude and longitude values of {} are {}, {}'.format(neighborhood_name_XIII, neighborhood_latitude_XIII, neighborhood_longitude_XIII))"
   ]
  },
  {
   "cell_type": "markdown",
   "metadata": {},
   "source": [
    "Get top 100 venues in **Aurelia** within radius of 1500 meters"
   ]
  },
  {
   "cell_type": "code",
   "execution_count": 70,
   "metadata": {},
   "outputs": [
    {
     "data": {
      "text/plain": [
       "'https://api.foursquare.com/v2/venues/explore?&client_id=ERP4VLV1V2S50EPBVX0WP1PSBSKGF3AHZBIXU5CGOYS3LMEZ&client_secret=Z5NGERSC4UNC1ZZUB0SDGUY11OZ1GQ1M3AMJQCQ02RQIB4S4&v=20180605&ll=41.90979,12.3463&radius=1500&limit=100'"
      ]
     },
     "execution_count": 70,
     "metadata": {},
     "output_type": "execute_result"
    }
   ],
   "source": [
    "LIMIT = 100\n",
    "radius = 1500\n",
    "url_XIII = 'https://api.foursquare.com/v2/venues/explore?&client_id={}&client_secret={}&v={}&ll={},{}&radius={}&limit={}'.format(\n",
    "    CLIENT_ID, \n",
    "    CLIENT_SECRET, \n",
    "    VERSION, \n",
    "    neighborhood_latitude_XIII, \n",
    "    neighborhood_longitude_XIII, \n",
    "    radius, \n",
    "    LIMIT)\n",
    "url_XIII"
   ]
  },
  {
   "cell_type": "code",
   "execution_count": 71,
   "metadata": {},
   "outputs": [],
   "source": [
    "results_XIII = requests.get(url_XIII).json()"
   ]
  },
  {
   "cell_type": "code",
   "execution_count": 72,
   "metadata": {},
   "outputs": [
    {
     "data": {
      "text/html": [
       "<div>\n",
       "<style scoped>\n",
       "    .dataframe tbody tr th:only-of-type {\n",
       "        vertical-align: middle;\n",
       "    }\n",
       "\n",
       "    .dataframe tbody tr th {\n",
       "        vertical-align: top;\n",
       "    }\n",
       "\n",
       "    .dataframe thead th {\n",
       "        text-align: right;\n",
       "    }\n",
       "</style>\n",
       "<table border=\"1\" class=\"dataframe\">\n",
       "  <thead>\n",
       "    <tr style=\"text-align: right;\">\n",
       "      <th></th>\n",
       "      <th>name</th>\n",
       "      <th>categories</th>\n",
       "      <th>lat</th>\n",
       "      <th>lng</th>\n",
       "    </tr>\n",
       "  </thead>\n",
       "  <tbody>\n",
       "    <tr>\n",
       "      <th>0</th>\n",
       "      <td>la collina storta</td>\n",
       "      <td>Stables</td>\n",
       "      <td>41.907634</td>\n",
       "      <td>12.341379</td>\n",
       "    </tr>\n",
       "    <tr>\n",
       "      <th>1</th>\n",
       "      <td>CD Removals Traslochi</td>\n",
       "      <td>Home Service</td>\n",
       "      <td>41.897450</td>\n",
       "      <td>12.345730</td>\n",
       "    </tr>\n",
       "  </tbody>\n",
       "</table>\n",
       "</div>"
      ],
      "text/plain": [
       "                    name    categories        lat        lng\n",
       "0      la collina storta       Stables  41.907634  12.341379\n",
       "1  CD Removals Traslochi  Home Service  41.897450  12.345730"
      ]
     },
     "execution_count": 72,
     "metadata": {},
     "output_type": "execute_result"
    }
   ],
   "source": [
    "venues_XIII = results_XIII['response']['groups'][0]['items']\n",
    "    \n",
    "nearby_venues_XIII = json_normalize(venues_XIII) # flatten JSON\n",
    "\n",
    "# filter columns\n",
    "filtered_columns = ['venue.name', 'venue.categories', 'venue.location.lat', 'venue.location.lng']\n",
    "nearby_venues_XIII =nearby_venues_XIII.loc[:, filtered_columns]\n",
    "\n",
    "# filter the category for each row\n",
    "nearby_venues_XIII['venue.categories'] = nearby_venues_XIII.apply(get_category_type, axis=1)\n",
    "\n",
    "# clean columns\n",
    "nearby_venues_XIII.columns = [col.split(\".\")[-1] for col in nearby_venues_XIII.columns]\n",
    "\n",
    "nearby_venues_XIII.head()\n"
   ]
  },
  {
   "cell_type": "markdown",
   "metadata": {},
   "source": [
    "Search for only Pizza places or Italian restaurants"
   ]
  },
  {
   "cell_type": "code",
   "execution_count": 73,
   "metadata": {
    "scrolled": false
   },
   "outputs": [
    {
     "data": {
      "text/html": [
       "<div>\n",
       "<style scoped>\n",
       "    .dataframe tbody tr th:only-of-type {\n",
       "        vertical-align: middle;\n",
       "    }\n",
       "\n",
       "    .dataframe tbody tr th {\n",
       "        vertical-align: top;\n",
       "    }\n",
       "\n",
       "    .dataframe thead th {\n",
       "        text-align: right;\n",
       "    }\n",
       "</style>\n",
       "<table border=\"1\" class=\"dataframe\">\n",
       "  <thead>\n",
       "    <tr style=\"text-align: right;\">\n",
       "      <th></th>\n",
       "      <th>name</th>\n",
       "      <th>categories</th>\n",
       "      <th>lat</th>\n",
       "      <th>lng</th>\n",
       "    </tr>\n",
       "  </thead>\n",
       "  <tbody>\n",
       "  </tbody>\n",
       "</table>\n",
       "</div>"
      ],
      "text/plain": [
       "Empty DataFrame\n",
       "Columns: [name, categories, lat, lng]\n",
       "Index: []"
      ]
     },
     "execution_count": 73,
     "metadata": {},
     "output_type": "execute_result"
    }
   ],
   "source": [
    "Venues_XIII = nearby_venues_XIII.loc[nearby_venues_XIII['categories'].isin(['Pizza Place','Italian Restaurant'])]\n",
    "Venues_XIII"
   ]
  },
  {
   "cell_type": "markdown",
   "metadata": {},
   "source": [
    "Find fourteenth neighborhood"
   ]
  },
  {
   "cell_type": "code",
   "execution_count": 74,
   "metadata": {},
   "outputs": [
    {
     "name": "stdout",
     "output_type": "stream",
     "text": [
      "Latitude and longitude values of Monte Mario are 41.97501, 12.34567\n"
     ]
    }
   ],
   "source": [
    "neighborhood_latitude_XIV = merged_data.loc[13, 'Latitude']\n",
    "neighborhood_longitude_XIV = merged_data.loc[13, 'Longitude']\n",
    "neighborhood_name_XIV = merged_data.loc[13, 'Neighborhood']\n",
    "\n",
    "print('Latitude and longitude values of {} are {}, {}'.format(neighborhood_name_XIV, neighborhood_latitude_XIV, neighborhood_longitude_XIV))"
   ]
  },
  {
   "cell_type": "markdown",
   "metadata": {},
   "source": [
    "Get top 100 venues in **Monte Mario** within radius of 1500 meters"
   ]
  },
  {
   "cell_type": "code",
   "execution_count": 75,
   "metadata": {},
   "outputs": [
    {
     "data": {
      "text/plain": [
       "'https://api.foursquare.com/v2/venues/explore?&client_id=ERP4VLV1V2S50EPBVX0WP1PSBSKGF3AHZBIXU5CGOYS3LMEZ&client_secret=Z5NGERSC4UNC1ZZUB0SDGUY11OZ1GQ1M3AMJQCQ02RQIB4S4&v=20180605&ll=41.97501,12.34567&radius=1500&limit=100'"
      ]
     },
     "execution_count": 75,
     "metadata": {},
     "output_type": "execute_result"
    }
   ],
   "source": [
    "LIMIT = 100\n",
    "radius = 1500\n",
    "url_XIV = 'https://api.foursquare.com/v2/venues/explore?&client_id={}&client_secret={}&v={}&ll={},{}&radius={}&limit={}'.format(\n",
    "    CLIENT_ID, \n",
    "    CLIENT_SECRET, \n",
    "    VERSION, \n",
    "    neighborhood_latitude_XIV, \n",
    "    neighborhood_longitude_XIV, \n",
    "    radius, \n",
    "    LIMIT)\n",
    "url_XIV"
   ]
  },
  {
   "cell_type": "code",
   "execution_count": 76,
   "metadata": {},
   "outputs": [],
   "source": [
    "results_XIV = requests.get(url_XIV).json()"
   ]
  },
  {
   "cell_type": "code",
   "execution_count": 77,
   "metadata": {},
   "outputs": [
    {
     "data": {
      "text/html": [
       "<div>\n",
       "<style scoped>\n",
       "    .dataframe tbody tr th:only-of-type {\n",
       "        vertical-align: middle;\n",
       "    }\n",
       "\n",
       "    .dataframe tbody tr th {\n",
       "        vertical-align: top;\n",
       "    }\n",
       "\n",
       "    .dataframe thead th {\n",
       "        text-align: right;\n",
       "    }\n",
       "</style>\n",
       "<table border=\"1\" class=\"dataframe\">\n",
       "  <thead>\n",
       "    <tr style=\"text-align: right;\">\n",
       "      <th></th>\n",
       "      <th>name</th>\n",
       "      <th>categories</th>\n",
       "      <th>lat</th>\n",
       "      <th>lng</th>\n",
       "    </tr>\n",
       "  </thead>\n",
       "  <tbody>\n",
       "    <tr>\n",
       "      <th>0</th>\n",
       "      <td>Poggio Dei Cavalieri</td>\n",
       "      <td>Restaurant</td>\n",
       "      <td>41.978386</td>\n",
       "      <td>12.340647</td>\n",
       "    </tr>\n",
       "    <tr>\n",
       "      <th>1</th>\n",
       "      <td>Casale San Nicola</td>\n",
       "      <td>Hotel</td>\n",
       "      <td>41.963683</td>\n",
       "      <td>12.354047</td>\n",
       "    </tr>\n",
       "  </tbody>\n",
       "</table>\n",
       "</div>"
      ],
      "text/plain": [
       "                   name  categories        lat        lng\n",
       "0  Poggio Dei Cavalieri  Restaurant  41.978386  12.340647\n",
       "1     Casale San Nicola       Hotel  41.963683  12.354047"
      ]
     },
     "execution_count": 77,
     "metadata": {},
     "output_type": "execute_result"
    }
   ],
   "source": [
    "venues_XIV = results_XIV['response']['groups'][0]['items']\n",
    "    \n",
    "nearby_venues_XIV = json_normalize(venues_XIV) # flatten JSON\n",
    "\n",
    "# filter columns\n",
    "filtered_columns = ['venue.name', 'venue.categories', 'venue.location.lat', 'venue.location.lng']\n",
    "nearby_venues_XIV =nearby_venues_XIV.loc[:, filtered_columns]\n",
    "\n",
    "# filter the category for each row\n",
    "nearby_venues_XIV['venue.categories'] = nearby_venues_XIV.apply(get_category_type, axis=1)\n",
    "\n",
    "# clean columns\n",
    "nearby_venues_XIV.columns = [col.split(\".\")[-1] for col in nearby_venues_XIV.columns]\n",
    "\n",
    "nearby_venues_XIV.head()\n"
   ]
  },
  {
   "cell_type": "markdown",
   "metadata": {},
   "source": [
    "Search for only Pizza places or Italian restaurants"
   ]
  },
  {
   "cell_type": "code",
   "execution_count": 78,
   "metadata": {
    "scrolled": false
   },
   "outputs": [
    {
     "data": {
      "text/html": [
       "<div>\n",
       "<style scoped>\n",
       "    .dataframe tbody tr th:only-of-type {\n",
       "        vertical-align: middle;\n",
       "    }\n",
       "\n",
       "    .dataframe tbody tr th {\n",
       "        vertical-align: top;\n",
       "    }\n",
       "\n",
       "    .dataframe thead th {\n",
       "        text-align: right;\n",
       "    }\n",
       "</style>\n",
       "<table border=\"1\" class=\"dataframe\">\n",
       "  <thead>\n",
       "    <tr style=\"text-align: right;\">\n",
       "      <th></th>\n",
       "      <th>name</th>\n",
       "      <th>categories</th>\n",
       "      <th>lat</th>\n",
       "      <th>lng</th>\n",
       "    </tr>\n",
       "  </thead>\n",
       "  <tbody>\n",
       "  </tbody>\n",
       "</table>\n",
       "</div>"
      ],
      "text/plain": [
       "Empty DataFrame\n",
       "Columns: [name, categories, lat, lng]\n",
       "Index: []"
      ]
     },
     "execution_count": 78,
     "metadata": {},
     "output_type": "execute_result"
    }
   ],
   "source": [
    "Venues_XIV = nearby_venues_XIV.loc[nearby_venues_XIV['categories'].isin(['Pizza Place','Italian Restaurant'])]\n",
    "Venues_XIV"
   ]
  },
  {
   "cell_type": "markdown",
   "metadata": {},
   "source": [
    "Find fifteenth neighborhood"
   ]
  },
  {
   "cell_type": "code",
   "execution_count": 79,
   "metadata": {},
   "outputs": [
    {
     "name": "stdout",
     "output_type": "stream",
     "text": [
      "Latitude and longitude values of Cassia/Flaminia are 42.029070000000004, 12.41586\n"
     ]
    }
   ],
   "source": [
    "neighborhood_latitude_XV = merged_data.loc[14, 'Latitude']\n",
    "neighborhood_longitude_XV = merged_data.loc[14, 'Longitude']\n",
    "neighborhood_name_XV = merged_data.loc[14, 'Neighborhood']\n",
    "\n",
    "print('Latitude and longitude values of {} are {}, {}'.format(neighborhood_name_XV, neighborhood_latitude_XV, neighborhood_longitude_XV))"
   ]
  },
  {
   "cell_type": "markdown",
   "metadata": {},
   "source": [
    "Get top 100 venues in **Cassia/Flaminia** within radius of 1500 meters"
   ]
  },
  {
   "cell_type": "code",
   "execution_count": 80,
   "metadata": {},
   "outputs": [
    {
     "data": {
      "text/plain": [
       "'https://api.foursquare.com/v2/venues/explore?&client_id=ERP4VLV1V2S50EPBVX0WP1PSBSKGF3AHZBIXU5CGOYS3LMEZ&client_secret=Z5NGERSC4UNC1ZZUB0SDGUY11OZ1GQ1M3AMJQCQ02RQIB4S4&v=20180605&ll=42.029070000000004,12.41586&radius=1500&limit=100'"
      ]
     },
     "execution_count": 80,
     "metadata": {},
     "output_type": "execute_result"
    }
   ],
   "source": [
    "LIMIT = 100\n",
    "radius = 1500\n",
    "url_XV = 'https://api.foursquare.com/v2/venues/explore?&client_id={}&client_secret={}&v={}&ll={},{}&radius={}&limit={}'.format(\n",
    "    CLIENT_ID, \n",
    "    CLIENT_SECRET, \n",
    "    VERSION, \n",
    "    neighborhood_latitude_XV, \n",
    "    neighborhood_longitude_XV, \n",
    "    radius, \n",
    "    LIMIT)\n",
    "url_XV"
   ]
  },
  {
   "cell_type": "code",
   "execution_count": 81,
   "metadata": {},
   "outputs": [],
   "source": [
    "results_XV = requests.get(url_XV).json()"
   ]
  },
  {
   "cell_type": "code",
   "execution_count": 82,
   "metadata": {},
   "outputs": [
    {
     "data": {
      "text/html": [
       "<div>\n",
       "<style scoped>\n",
       "    .dataframe tbody tr th:only-of-type {\n",
       "        vertical-align: middle;\n",
       "    }\n",
       "\n",
       "    .dataframe tbody tr th {\n",
       "        vertical-align: top;\n",
       "    }\n",
       "\n",
       "    .dataframe thead th {\n",
       "        text-align: right;\n",
       "    }\n",
       "</style>\n",
       "<table border=\"1\" class=\"dataframe\">\n",
       "  <thead>\n",
       "    <tr style=\"text-align: right;\">\n",
       "      <th></th>\n",
       "      <th>name</th>\n",
       "      <th>categories</th>\n",
       "      <th>lat</th>\n",
       "      <th>lng</th>\n",
       "    </tr>\n",
       "  </thead>\n",
       "  <tbody>\n",
       "    <tr>\n",
       "      <th>0</th>\n",
       "      <td>Le 7 Fonti</td>\n",
       "      <td>Italian Restaurant</td>\n",
       "      <td>42.027234</td>\n",
       "      <td>12.411190</td>\n",
       "    </tr>\n",
       "    <tr>\n",
       "      <th>1</th>\n",
       "      <td>Parco natura La selvotta</td>\n",
       "      <td>Park</td>\n",
       "      <td>42.037069</td>\n",
       "      <td>12.417157</td>\n",
       "    </tr>\n",
       "    <tr>\n",
       "      <th>2</th>\n",
       "      <td>Momoe a.c.</td>\n",
       "      <td>Restaurant</td>\n",
       "      <td>42.039450</td>\n",
       "      <td>12.404649</td>\n",
       "    </tr>\n",
       "  </tbody>\n",
       "</table>\n",
       "</div>"
      ],
      "text/plain": [
       "                       name          categories        lat        lng\n",
       "0                Le 7 Fonti  Italian Restaurant  42.027234  12.411190\n",
       "1  Parco natura La selvotta                Park  42.037069  12.417157\n",
       "2                Momoe a.c.          Restaurant  42.039450  12.404649"
      ]
     },
     "execution_count": 82,
     "metadata": {},
     "output_type": "execute_result"
    }
   ],
   "source": [
    "venues_XV = results_XV['response']['groups'][0]['items']\n",
    "    \n",
    "nearby_venues_XV = json_normalize(venues_XV) # flatten JSON\n",
    "\n",
    "# filter columns\n",
    "filtered_columns = ['venue.name', 'venue.categories', 'venue.location.lat', 'venue.location.lng']\n",
    "nearby_venues_XV =nearby_venues_XV.loc[:, filtered_columns]\n",
    "\n",
    "# filter the category for each row\n",
    "nearby_venues_XV['venue.categories'] = nearby_venues_XV.apply(get_category_type, axis=1)\n",
    "\n",
    "# clean columns\n",
    "nearby_venues_XV.columns = [col.split(\".\")[-1] for col in nearby_venues_XV.columns]\n",
    "\n",
    "nearby_venues_XV.head()\n"
   ]
  },
  {
   "cell_type": "markdown",
   "metadata": {},
   "source": [
    "Search for only Pizza places or Italian restaurants"
   ]
  },
  {
   "cell_type": "code",
   "execution_count": 83,
   "metadata": {
    "scrolled": false
   },
   "outputs": [
    {
     "data": {
      "text/html": [
       "<div>\n",
       "<style scoped>\n",
       "    .dataframe tbody tr th:only-of-type {\n",
       "        vertical-align: middle;\n",
       "    }\n",
       "\n",
       "    .dataframe tbody tr th {\n",
       "        vertical-align: top;\n",
       "    }\n",
       "\n",
       "    .dataframe thead th {\n",
       "        text-align: right;\n",
       "    }\n",
       "</style>\n",
       "<table border=\"1\" class=\"dataframe\">\n",
       "  <thead>\n",
       "    <tr style=\"text-align: right;\">\n",
       "      <th></th>\n",
       "      <th>name</th>\n",
       "      <th>categories</th>\n",
       "      <th>lat</th>\n",
       "      <th>lng</th>\n",
       "    </tr>\n",
       "  </thead>\n",
       "  <tbody>\n",
       "    <tr>\n",
       "      <th>0</th>\n",
       "      <td>Le 7 Fonti</td>\n",
       "      <td>Italian Restaurant</td>\n",
       "      <td>42.027234</td>\n",
       "      <td>12.41119</td>\n",
       "    </tr>\n",
       "  </tbody>\n",
       "</table>\n",
       "</div>"
      ],
      "text/plain": [
       "         name          categories        lat       lng\n",
       "0  Le 7 Fonti  Italian Restaurant  42.027234  12.41119"
      ]
     },
     "execution_count": 83,
     "metadata": {},
     "output_type": "execute_result"
    }
   ],
   "source": [
    "Venues_XV = nearby_venues_XV.loc[nearby_venues_XV['categories'].isin(['Pizza Place','Italian Restaurant'])]\n",
    "Venues_XV"
   ]
  },
  {
   "cell_type": "markdown",
   "metadata": {},
   "source": [
    " "
   ]
  },
  {
   "cell_type": "markdown",
   "metadata": {},
   "source": [
    "### Step 2: Combine data from step 1 into new dataframe"
   ]
  },
  {
   "cell_type": "markdown",
   "metadata": {},
   "source": [
    "Create dataframes for each municipio containing columns: \"Municipio\", \"nr of Italian Restaurants\" and \"nr of Pizza Places\""
   ]
  },
  {
   "cell_type": "code",
   "execution_count": 84,
   "metadata": {},
   "outputs": [],
   "source": [
    "# create dataframe per municipio with total of selected venues from data above\n",
    "municipio_I = Venues_I.groupby('categories').count()[['name']]\n",
    "municipio_II = Venues_II.groupby('categories').count()[['name']]\n",
    "municipio_III = Venues_III.groupby('categories').count()[['name']]\n",
    "municipio_IV = Venues_IV.groupby('categories').count()[['name']]\n",
    "municipio_V = Venues_V.groupby('categories').count()[['name']]\n",
    "municipio_VI = Venues_VI.groupby('categories').count()[['name']]\n",
    "municipio_VII = Venues_VII.groupby('categories').count()[['name']]\n",
    "municipio_VIII = Venues_VIII.groupby('categories').count()[['name']]\n",
    "municipio_IX = Venues_IX.groupby('categories').count()[['name']]\n",
    "municipio_X = Venues_X.groupby('categories').count()[['name']]\n",
    "municipio_XI = Venues_XI.groupby('categories').count()[['name']]\n",
    "municipio_XII = Venues_XII.groupby('categories').count()[['name']]\n",
    "municipio_XIII = Venues_XIII.groupby('categories').count()[['name']]\n",
    "municipio_XIV = Venues_XIV.groupby('categories').count()[['name']]\n",
    "municipio_XV = Venues_XV.groupby('categories').count()[['name']]\n",
    "\n",
    "# change 'name' to number of municipio\n",
    "municipio_I.rename(columns = {'name':'I'}, inplace=True)\n",
    "municipio_II.rename(columns = {'name':'II'}, inplace=True)\n",
    "municipio_III.rename(columns = {'name':'III'}, inplace=True)\n",
    "municipio_IV.rename(columns = {'name':'IV'}, inplace=True)\n",
    "municipio_V.rename(columns = {'name':'V'}, inplace=True)\n",
    "municipio_VI.rename(columns = {'name':'VI'}, inplace=True)\n",
    "municipio_VII.rename(columns = {'name':'VII'}, inplace=True)\n",
    "municipio_VIII.rename(columns = {'name':'VIII'}, inplace=True)\n",
    "municipio_IX.rename(columns = {'name':'IX'}, inplace=True)\n",
    "municipio_X.rename(columns = {'name':'X'}, inplace=True)\n",
    "municipio_XI.rename(columns = {'name':'XI'}, inplace=True)\n",
    "municipio_XII.rename(columns = {'name':'XII'}, inplace=True)\n",
    "municipio_XIII.rename(columns = {'name':'XIII'}, inplace=True)\n",
    "municipio_XIV.rename(columns = {'name':'XIV'}, inplace=True)\n",
    "municipio_XV.rename(columns = {'name':'XV'}, inplace=True)\n"
   ]
  },
  {
   "cell_type": "code",
   "execution_count": 85,
   "metadata": {},
   "outputs": [],
   "source": [
    "# transpose dataframes\n",
    "municipio_I = municipio_I.T\n",
    "municipio_II = municipio_II.T\n",
    "municipio_III = municipio_III.T\n",
    "municipio_IV = municipio_IV.T\n",
    "municipio_V = municipio_V.T\n",
    "municipio_VI = municipio_VI.T\n",
    "municipio_VII = municipio_VII.T\n",
    "municipio_VIII = municipio_VIII.T\n",
    "municipio_IX = municipio_IX.T\n",
    "municipio_X = municipio_X.T\n",
    "municipio_XI = municipio_XI.T\n",
    "municipio_XII = municipio_XII.T\n",
    "municipio_XIII = municipio_XIII.T\n",
    "municipio_XIV = municipio_XIV.T\n",
    "municipio_XV = municipio_XV.T\n",
    "\n"
   ]
  },
  {
   "cell_type": "code",
   "execution_count": 86,
   "metadata": {},
   "outputs": [],
   "source": [
    "# merge new dataframes into one dataframe\n",
    "all_municipio = municipio_I.append([municipio_II,municipio_III,municipio_IV,municipio_V,municipio_VI,municipio_VII,municipio_VIII,municipio_IX,municipio_X,municipio_XI,municipio_XII,municipio_XIII,municipio_XIV,municipio_XV], sort=True)\n",
    "\n",
    "\n",
    "# reset index and rename columns to appropriate titles\n",
    "all_municipio.index.names = ['Municipio']\n",
    "all_municipio.rename(columns = {'Italian Restaurant': 'nr of Italian restaurants', 'Pizza Place': 'nr of pizza places'}, inplace=True)\n",
    "all_municipio = all_municipio.reset_index()\n",
    "\n",
    "# pre-process values 'NaN'\n",
    "all_municipio = all_municipio.fillna(0)\n",
    "\n",
    "# add column with sum of Italian restaurants and pizza places per municipio\n",
    "all_municipio['total'] = all_municipio['nr of Italian restaurants'] + all_municipio['nr of pizza places']\n",
    "\n"
   ]
  },
  {
   "cell_type": "markdown",
   "metadata": {},
   "source": [
    "Merge latest dataframe with dataframe containing population and density info"
   ]
  },
  {
   "cell_type": "code",
   "execution_count": 87,
   "metadata": {},
   "outputs": [],
   "source": [
    "rome_data = pd.merge(df_data, all_municipio)\n"
   ]
  },
  {
   "cell_type": "markdown",
   "metadata": {},
   "source": [
    "Sort dataframe by total of venues (in descending order) and by population density"
   ]
  },
  {
   "cell_type": "code",
   "execution_count": 88,
   "metadata": {
    "scrolled": false
   },
   "outputs": [
    {
     "data": {
      "text/html": [
       "<div>\n",
       "<style scoped>\n",
       "    .dataframe tbody tr th:only-of-type {\n",
       "        vertical-align: middle;\n",
       "    }\n",
       "\n",
       "    .dataframe tbody tr th {\n",
       "        vertical-align: top;\n",
       "    }\n",
       "\n",
       "    .dataframe thead th {\n",
       "        text-align: right;\n",
       "    }\n",
       "</style>\n",
       "<table border=\"1\" class=\"dataframe\">\n",
       "  <thead>\n",
       "    <tr style=\"text-align: right;\">\n",
       "      <th></th>\n",
       "      <th>Neighborhood</th>\n",
       "      <th>Population</th>\n",
       "      <th>Area</th>\n",
       "      <th>Density</th>\n",
       "      <th>nr of Italian restaurants</th>\n",
       "      <th>nr of pizza places</th>\n",
       "      <th>total</th>\n",
       "    </tr>\n",
       "    <tr>\n",
       "      <th>Municipio</th>\n",
       "      <th></th>\n",
       "      <th></th>\n",
       "      <th></th>\n",
       "      <th></th>\n",
       "      <th></th>\n",
       "      <th></th>\n",
       "      <th></th>\n",
       "    </tr>\n",
       "  </thead>\n",
       "  <tbody>\n",
       "    <tr>\n",
       "      <th>II</th>\n",
       "      <td>Parioli/Nomentano</td>\n",
       "      <td>167736</td>\n",
       "      <td>19.60</td>\n",
       "      <td>8567</td>\n",
       "      <td>17.0</td>\n",
       "      <td>8.0</td>\n",
       "      <td>25.0</td>\n",
       "    </tr>\n",
       "    <tr>\n",
       "      <th>I</th>\n",
       "      <td>Historical Center</td>\n",
       "      <td>186802</td>\n",
       "      <td>19.91</td>\n",
       "      <td>9382</td>\n",
       "      <td>11.0</td>\n",
       "      <td>5.0</td>\n",
       "      <td>16.0</td>\n",
       "    </tr>\n",
       "    <tr>\n",
       "      <th>V</th>\n",
       "      <td>Prenestino/Centocelle</td>\n",
       "      <td>246471</td>\n",
       "      <td>27.00</td>\n",
       "      <td>9137</td>\n",
       "      <td>5.0</td>\n",
       "      <td>8.0</td>\n",
       "      <td>13.0</td>\n",
       "    </tr>\n",
       "    <tr>\n",
       "      <th>X</th>\n",
       "      <td>Ostia/Acilia</td>\n",
       "      <td>230544</td>\n",
       "      <td>150.64</td>\n",
       "      <td>1530</td>\n",
       "      <td>6.0</td>\n",
       "      <td>0.0</td>\n",
       "      <td>6.0</td>\n",
       "    </tr>\n",
       "    <tr>\n",
       "      <th>VII</th>\n",
       "      <td>Appio-Latino/Tuscolano/Cinecittà</td>\n",
       "      <td>307607</td>\n",
       "      <td>46.80</td>\n",
       "      <td>6580</td>\n",
       "      <td>3.0</td>\n",
       "      <td>2.0</td>\n",
       "      <td>5.0</td>\n",
       "    </tr>\n",
       "    <tr>\n",
       "      <th>IV</th>\n",
       "      <td>Tiburtina</td>\n",
       "      <td>177084</td>\n",
       "      <td>49.15</td>\n",
       "      <td>3603</td>\n",
       "      <td>1.0</td>\n",
       "      <td>2.0</td>\n",
       "      <td>3.0</td>\n",
       "    </tr>\n",
       "    <tr>\n",
       "      <th>VIII</th>\n",
       "      <td>Appia Antica</td>\n",
       "      <td>131082</td>\n",
       "      <td>47.29</td>\n",
       "      <td>2772</td>\n",
       "      <td>0.0</td>\n",
       "      <td>1.0</td>\n",
       "      <td>1.0</td>\n",
       "    </tr>\n",
       "    <tr>\n",
       "      <th>XI</th>\n",
       "      <td>Arvalia/Portuense</td>\n",
       "      <td>154871</td>\n",
       "      <td>70.90</td>\n",
       "      <td>2185</td>\n",
       "      <td>1.0</td>\n",
       "      <td>0.0</td>\n",
       "      <td>1.0</td>\n",
       "    </tr>\n",
       "    <tr>\n",
       "      <th>XV</th>\n",
       "      <td>Cassia/Flaminia</td>\n",
       "      <td>158561</td>\n",
       "      <td>186.70</td>\n",
       "      <td>849</td>\n",
       "      <td>1.0</td>\n",
       "      <td>0.0</td>\n",
       "      <td>1.0</td>\n",
       "    </tr>\n",
       "    <tr>\n",
       "      <th>VI</th>\n",
       "      <td>Roma Delle Torri</td>\n",
       "      <td>256261</td>\n",
       "      <td>113.40</td>\n",
       "      <td>2261</td>\n",
       "      <td>0.0</td>\n",
       "      <td>0.0</td>\n",
       "      <td>0.0</td>\n",
       "    </tr>\n",
       "    <tr>\n",
       "      <th>III</th>\n",
       "      <td>Monte Sacro</td>\n",
       "      <td>204514</td>\n",
       "      <td>97.82</td>\n",
       "      <td>2091</td>\n",
       "      <td>0.0</td>\n",
       "      <td>0.0</td>\n",
       "      <td>0.0</td>\n",
       "    </tr>\n",
       "    <tr>\n",
       "      <th>XIII</th>\n",
       "      <td>Aurelia</td>\n",
       "      <td>133813</td>\n",
       "      <td>68.70</td>\n",
       "      <td>1949</td>\n",
       "      <td>0.0</td>\n",
       "      <td>0.0</td>\n",
       "      <td>0.0</td>\n",
       "    </tr>\n",
       "    <tr>\n",
       "      <th>XII</th>\n",
       "      <td>Monte Verde</td>\n",
       "      <td>140996</td>\n",
       "      <td>73.12</td>\n",
       "      <td>1928</td>\n",
       "      <td>0.0</td>\n",
       "      <td>0.0</td>\n",
       "      <td>0.0</td>\n",
       "    </tr>\n",
       "    <tr>\n",
       "      <th>XIV</th>\n",
       "      <td>Monte Mario</td>\n",
       "      <td>190513</td>\n",
       "      <td>131.30</td>\n",
       "      <td>1451</td>\n",
       "      <td>0.0</td>\n",
       "      <td>0.0</td>\n",
       "      <td>0.0</td>\n",
       "    </tr>\n",
       "    <tr>\n",
       "      <th>IX</th>\n",
       "      <td>EUR</td>\n",
       "      <td>180511</td>\n",
       "      <td>183.17</td>\n",
       "      <td>985</td>\n",
       "      <td>0.0</td>\n",
       "      <td>0.0</td>\n",
       "      <td>0.0</td>\n",
       "    </tr>\n",
       "  </tbody>\n",
       "</table>\n",
       "</div>"
      ],
      "text/plain": [
       "                               Neighborhood  Population    Area  Density  \\\n",
       "Municipio                                                                  \n",
       "II                        Parioli/Nomentano      167736   19.60     8567   \n",
       "I                         Historical Center      186802   19.91     9382   \n",
       "V                     Prenestino/Centocelle      246471   27.00     9137   \n",
       "X                              Ostia/Acilia      230544  150.64     1530   \n",
       "VII        Appio-Latino/Tuscolano/Cinecittà      307607   46.80     6580   \n",
       "IV                                Tiburtina      177084   49.15     3603   \n",
       "VIII                           Appia Antica      131082   47.29     2772   \n",
       "XI                        Arvalia/Portuense      154871   70.90     2185   \n",
       "XV                          Cassia/Flaminia      158561  186.70      849   \n",
       "VI                         Roma Delle Torri      256261  113.40     2261   \n",
       "III                             Monte Sacro      204514   97.82     2091   \n",
       "XIII                                Aurelia      133813   68.70     1949   \n",
       "XII                             Monte Verde      140996   73.12     1928   \n",
       "XIV                             Monte Mario      190513  131.30     1451   \n",
       "IX                                      EUR      180511  183.17      985   \n",
       "\n",
       "           nr of Italian restaurants  nr of pizza places  total  \n",
       "Municipio                                                        \n",
       "II                              17.0                 8.0   25.0  \n",
       "I                               11.0                 5.0   16.0  \n",
       "V                                5.0                 8.0   13.0  \n",
       "X                                6.0                 0.0    6.0  \n",
       "VII                              3.0                 2.0    5.0  \n",
       "IV                               1.0                 2.0    3.0  \n",
       "VIII                             0.0                 1.0    1.0  \n",
       "XI                               1.0                 0.0    1.0  \n",
       "XV                               1.0                 0.0    1.0  \n",
       "VI                               0.0                 0.0    0.0  \n",
       "III                              0.0                 0.0    0.0  \n",
       "XIII                             0.0                 0.0    0.0  \n",
       "XII                              0.0                 0.0    0.0  \n",
       "XIV                              0.0                 0.0    0.0  \n",
       "IX                               0.0                 0.0    0.0  "
      ]
     },
     "execution_count": 88,
     "metadata": {},
     "output_type": "execute_result"
    }
   ],
   "source": [
    "rome_data.sort_values(by=['total', 'Density'], ascending=False, inplace=True)\n",
    "\n",
    "#replace index with Municipio\n",
    "rome_data.set_index('Municipio', inplace=True)\n",
    "\n",
    "rome_data"
   ]
  },
  {
   "cell_type": "markdown",
   "metadata": {},
   "source": [
    "## Results"
   ]
  },
  {
   "cell_type": "markdown",
   "metadata": {},
   "source": [
    "In the final data frame (rome_data), one can see that there are still municipio/subdivisions in the city of Rome, Italy where no Italian restaurants or pizza places are situated. Therefore, the assumption that there are pizzerias on about every corner of every busy street is not true. \n",
    "\n",
    "As one can also see in the ‘nearby_venues’-data frames per municipio, there are even still areas without any restaurants (apart from hotels maybe). For example municipio III: ‘Monte Sacro’. When searching for the top 100 venues, only 4 were returned by the FourSquare API, of which one was a hotel, but the rest was ‘pool’, ‘farm’ and ‘mobile phone shop’. I will dive further into this and the location / population density in the ‘Discussion’-section of this report.\n"
   ]
  },
  {
   "cell_type": "markdown",
   "metadata": {},
   "source": [
    "  "
   ]
  },
  {
   "cell_type": "markdown",
   "metadata": {},
   "source": [
    "## Discussion"
   ]
  },
  {
   "cell_type": "markdown",
   "metadata": {},
   "source": [
    "This project aimed to find out whether there is still room for a new pizzeria in the city of Rome, Italy and, if that were the case, where the competition is the least ‘killing’ and people are still willing to try out his pizzas. In order to answer these questions, this section is divided in several smaller sections."
   ]
  },
  {
   "cell_type": "markdown",
   "metadata": {},
   "source": [
    "### Is there still room for a new pizzeria?"
   ]
  },
  {
   "cell_type": "markdown",
   "metadata": {},
   "source": [
    "Investigation focussed on this question, comprised of evaluating whether there are still areas in Rome where there are few or no pizzerias or Italian restaurants. The latter was included because these restaurants often have pizzas on their menus. All other venues were excluded from this research. The search for postal code information on Rome led to a Wikipedia-page where fifteen administrative subdivisions or “Municipio” of Rome were described (see figure below). "
   ]
  },
  {
   "cell_type": "markdown",
   "metadata": {},
   "source": [
    "![Image of municipio Rome](https://upload.wikimedia.org/wikipedia/commons/e/eb/Roma_-_Municipi_numerata.png)"
   ]
  },
  {
   "cell_type": "markdown",
   "metadata": {},
   "source": [
    "*Picture of the locations of the municipio in Rome*"
   ]
  },
  {
   "cell_type": "markdown",
   "metadata": {},
   "source": [
    "Geonames.org used the same Municipio and was helpful to provide the latitude and longitude per subdivision. With this information, a map of Rome was created with a range of 1500 meters around the coordinates of each Municipio (“map_rome”; already shown in the Methods-section), showing in which areas the next step was performed: calling the FourSquare API to find the top 100 venues within each area. (Top 1000 of venues was also performed, but the API did not exceed past 100 venues.)\n",
    "\n",
    "\n",
    "With the information of the found venues, a selection was made to only include the categories ‘Pizza place’ and ‘Italian restaurant’. A data frame was created combining the relevant results of all Municipio and a total of relevant venues was calculated. This final data frame “rome_data” showed that six out of fifteen subdivisions of Rome did not have a relevant venue, and 3 had only 1 (either a pizza place or an Italian restaurant). This answers the first question: yes, there is still room for a new pizzeria.\n"
   ]
  },
  {
   "cell_type": "markdown",
   "metadata": {},
   "source": [
    "### Where would be the best place for a new pizzeria?"
   ]
  },
  {
   "cell_type": "markdown",
   "metadata": {},
   "source": [
    "As previously stated, there are still areas in Rome with no (or very few) pizza selling restaurant(s). Additional information about these areas (such as population, area in km2, and density in km2) were also provided in the final data frame “rome_data”. The most dense Municipio (as in, having the largest population per square kilometre) already own more than three places selling pizzas. These areas were Historical Center, Parioli/Nomentano, Prenestino/Centocelle, Ostia/Acilia, Appio-Latino/Tuscolano/Cinecittà and Tiburtina. I would recommend staying away from those Municipio as a new starting pizza place/restaurant. However, subdivisions like Monte Sacro having a density of 2091 people per square kilometre, might be a very nice place to start. Although a bit far from the city centre (and probably the most tourist), its citizens might be craving for a pizza. Another example: Municipio VIII or “Appia Antica” is relatively close to the centre of Rome and also doesn’t own a pizza selling place. Its density is not far from that of Monte Sacro (1949 people per square kilometre).\n",
    "\n",
    "Answering this question can be done in three manners: (1) choosing the closest area to the city centre with the least competition, or (2) choosing the area with the largest density and the least competition. Finally, (3) one can take the touristic places into account when picking the most popular place out of those without any pizza selling places. This latter method might seem the same as the first, however, there are touristic places that are not necessarily in or around the historical city centre. Within this research, though, I will only look at method 1 and 2, since that can be answered with the provided information within the Method-section. Tourism of a city is a whole other aspect.\n",
    "\n",
    "So, using method 1 (closest area to city centre), I would recommend Municipio VIII / “Appia Antica” as an area to start a new pizzeria. Although owning 1 Italian restaurant, the addition of a pizzeria might be profitable. \n",
    "\n",
    "Using method 2 (choosing area with largest density), Appia Antica also comes up as the best place in town (2772 people per square kilometre, with 1 competitor), with Roma Delle Tori (municipio VI) as first runner up with 2261 people per square kilometre and zero competitors.\n"
   ]
  },
  {
   "cell_type": "markdown",
   "metadata": {},
   "source": [
    "### Points for improvement for future research on this topic"
   ]
  },
  {
   "cell_type": "markdown",
   "metadata": {},
   "source": [
    "Within this project, a 1500 meter range was drawn around the coordinates of each municipio (as was shown in \"map_rome\"), making sure no areas overlapped with each other. This range excluded all possible venues that were situated within the area, but outside of the 1500 meter range. For future research, it could be more useful to find a way to include all venues within the complete municipio.\n",
    "In addition, the FourSquare API returned only the top 100 venues per input. It is possible that within the search areas, there are more venues that were not included in this project.\n",
    "Finally, touristic information was not included within this research as is was ‘out of scope’. In order to investigate whether the third method described in the section above leads to another result/recommendation than the first two, this will be useful."
   ]
  },
  {
   "cell_type": "markdown",
   "metadata": {},
   "source": [
    "   "
   ]
  },
  {
   "cell_type": "markdown",
   "metadata": {},
   "source": [
    "## Conclusion"
   ]
  },
  {
   "cell_type": "markdown",
   "metadata": {},
   "source": [
    "After investigating whether there is still room for a new pizzeria in Rome, Italy, and if so, where the best place would be, both described methods in the ‘Discussion’-section lead to the same ‘winning’ area. Appia Antica is the municipio closest to the city centre with only one competitor and relatively many people per square kilometre. Therefore, this would be the area I recommend for a new pizzeria."
   ]
  }
 ],
 "metadata": {
  "kernelspec": {
   "display_name": "Python 3.6",
   "language": "python",
   "name": "python3"
  },
  "language_info": {
   "codemirror_mode": {
    "name": "ipython",
    "version": 3
   },
   "file_extension": ".py",
   "mimetype": "text/x-python",
   "name": "python",
   "nbconvert_exporter": "python",
   "pygments_lexer": "ipython3",
   "version": "3.6.8"
  }
 },
 "nbformat": 4,
 "nbformat_minor": 1
}
